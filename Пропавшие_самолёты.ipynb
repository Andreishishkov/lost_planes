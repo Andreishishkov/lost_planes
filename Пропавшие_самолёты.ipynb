{
  "nbformat": 4,
  "nbformat_minor": 0,
  "metadata": {
    "colab": {
      "name": "Пропавшие самолёты.ipynb",
      "provenance": [],
      "collapsed_sections": []
    },
    "kernelspec": {
      "display_name": "Python 3",
      "name": "python3"
    },
    "language_info": {
      "name": "python"
    }
  },
  "cells": [
    {
      "cell_type": "markdown",
      "metadata": {
        "id": "7Ht-qXL1seUR"
      },
      "source": [
        "-----------------------"
      ]
    },
    {
      "cell_type": "markdown",
      "metadata": {
        "id": "wMj7uWCe3HeU"
      },
      "source": [
        "разбиение по категориям"
      ]
    },
    {
      "cell_type": "code",
      "metadata": {
        "id": "EkD6Lunasg0M"
      },
      "source": [
        "import pandas as pd"
      ],
      "execution_count": null,
      "outputs": []
    },
    {
      "cell_type": "code",
      "metadata": {
        "id": "P5Yge_66swrl"
      },
      "source": [
        "df_train = pd.read_csv('/content/train.csv')"
      ],
      "execution_count": null,
      "outputs": []
    },
    {
      "cell_type": "code",
      "metadata": {
        "colab": {
          "base_uri": "https://localhost:8080/"
        },
        "id": "sKh0zlOy6FaX",
        "outputId": "d6eab5fd-0c2e-4bb0-ad9a-40a036fc7be1"
      },
      "source": [
        "df_train.dtypes"
      ],
      "execution_count": null,
      "outputs": [
        {
          "output_type": "execute_result",
          "data": {
            "text/plain": [
              "sign         int64\n",
              "filename    object\n",
              "dtype: object"
            ]
          },
          "metadata": {
            "tags": []
          },
          "execution_count": 8
        }
      ]
    },
    {
      "cell_type": "code",
      "metadata": {
        "colab": {
          "base_uri": "https://localhost:8080/",
          "height": 195
        },
        "id": "oZu6G_v9s63n",
        "outputId": "0dfb1e9c-9729-45b8-f305-598daf8279ed"
      },
      "source": [
        "df_train.head()"
      ],
      "execution_count": null,
      "outputs": [
        {
          "output_type": "execute_result",
          "data": {
            "text/html": [
              "<div>\n",
              "<style scoped>\n",
              "    .dataframe tbody tr th:only-of-type {\n",
              "        vertical-align: middle;\n",
              "    }\n",
              "\n",
              "    .dataframe tbody tr th {\n",
              "        vertical-align: top;\n",
              "    }\n",
              "\n",
              "    .dataframe thead th {\n",
              "        text-align: right;\n",
              "    }\n",
              "</style>\n",
              "<table border=\"1\" class=\"dataframe\">\n",
              "  <thead>\n",
              "    <tr style=\"text-align: right;\">\n",
              "      <th></th>\n",
              "      <th>sign</th>\n",
              "      <th>filename</th>\n",
              "    </tr>\n",
              "  </thead>\n",
              "  <tbody>\n",
              "    <tr>\n",
              "      <th>0</th>\n",
              "      <td>0</td>\n",
              "      <td>200d8766-4240-44d1-a2da-65dc4ee7973a</td>\n",
              "    </tr>\n",
              "    <tr>\n",
              "      <th>1</th>\n",
              "      <td>0</td>\n",
              "      <td>87174854-b7b6-4cb2-8183-4ca2bbd26b9d</td>\n",
              "    </tr>\n",
              "    <tr>\n",
              "      <th>2</th>\n",
              "      <td>0</td>\n",
              "      <td>c089638e-b683-436a-a3a3-3e5be972c4f6</td>\n",
              "    </tr>\n",
              "    <tr>\n",
              "      <th>3</th>\n",
              "      <td>1</td>\n",
              "      <td>8790e76c-f485-49a6-abaf-3147436ca085</td>\n",
              "    </tr>\n",
              "    <tr>\n",
              "      <th>4</th>\n",
              "      <td>0</td>\n",
              "      <td>c06b01db-8934-4c72-b568-508a32c4b170</td>\n",
              "    </tr>\n",
              "  </tbody>\n",
              "</table>\n",
              "</div>"
            ],
            "text/plain": [
              "   sign                              filename\n",
              "0     0  200d8766-4240-44d1-a2da-65dc4ee7973a\n",
              "1     0  87174854-b7b6-4cb2-8183-4ca2bbd26b9d\n",
              "2     0  c089638e-b683-436a-a3a3-3e5be972c4f6\n",
              "3     1  8790e76c-f485-49a6-abaf-3147436ca085\n",
              "4     0  c06b01db-8934-4c72-b568-508a32c4b170"
            ]
          },
          "metadata": {
            "tags": []
          },
          "execution_count": 9
        }
      ]
    },
    {
      "cell_type": "code",
      "metadata": {
        "id": "RgDyJi292gq0"
      },
      "source": [
        "df_true = df_train[df_train['sign']==1]"
      ],
      "execution_count": null,
      "outputs": []
    },
    {
      "cell_type": "code",
      "metadata": {
        "colab": {
          "base_uri": "https://localhost:8080/"
        },
        "id": "7u-HK_nx9Itb",
        "outputId": "d62d48bd-70c7-429f-9bb3-fda04110d2ae"
      },
      "source": [
        "len(df_true['filename'])"
      ],
      "execution_count": null,
      "outputs": [
        {
          "output_type": "execute_result",
          "data": {
            "text/plain": [
              "7899"
            ]
          },
          "metadata": {
            "tags": []
          },
          "execution_count": 11
        }
      ]
    },
    {
      "cell_type": "code",
      "metadata": {
        "id": "9cW1pWFs2uew"
      },
      "source": [
        "df_false = df_train[df_train['sign']==0]"
      ],
      "execution_count": null,
      "outputs": []
    },
    {
      "cell_type": "code",
      "metadata": {
        "colab": {
          "base_uri": "https://localhost:8080/"
        },
        "id": "yzP8I0az9Vjk",
        "outputId": "b04bd7a8-73bf-4021-99f4-245636677ac6"
      },
      "source": [
        "len(df_false['filename'])"
      ],
      "execution_count": null,
      "outputs": [
        {
          "output_type": "execute_result",
          "data": {
            "text/plain": [
              "23181"
            ]
          },
          "metadata": {
            "tags": []
          },
          "execution_count": 13
        }
      ]
    },
    {
      "cell_type": "markdown",
      "metadata": {
        "id": "zMGURT7U3UiW"
      },
      "source": [
        "Создание директорий"
      ]
    },
    {
      "cell_type": "code",
      "metadata": {
        "id": "GCNvU4HhxR8V"
      },
      "source": [
        "import os"
      ],
      "execution_count": null,
      "outputs": []
    },
    {
      "cell_type": "code",
      "metadata": {
        "id": "eqvwUZf3xVZ3"
      },
      "source": [
        "import zipfile\n",
        "with zipfile.ZipFile('/content/avia-train.zip', 'r') as zip_obj:\n",
        "   # Extract all the contents of zip file in current directory\n",
        "   zip_obj.extractall('/content')"
      ],
      "execution_count": null,
      "outputs": []
    },
    {
      "cell_type": "code",
      "metadata": {
        "id": "rAaOlswPzA-w"
      },
      "source": [
        "os.mkdir('train_data_for_avia')"
      ],
      "execution_count": null,
      "outputs": []
    },
    {
      "cell_type": "code",
      "metadata": {
        "id": "3XRblH0jzWNx"
      },
      "source": [
        "os.makedirs(r'/content/train_data_for_avia/1')"
      ],
      "execution_count": null,
      "outputs": []
    },
    {
      "cell_type": "code",
      "metadata": {
        "id": "9QS920Jx0CHw"
      },
      "source": [
        "os.makedirs(r'/content/train_data_for_avia/0')"
      ],
      "execution_count": null,
      "outputs": []
    },
    {
      "cell_type": "markdown",
      "metadata": {
        "id": "o_ra8JWt3iAO"
      },
      "source": [
        "добавление изображений по категориям в каталоги"
      ]
    },
    {
      "cell_type": "code",
      "metadata": {
        "colab": {
          "base_uri": "https://localhost:8080/"
        },
        "id": "Vd9_L_Uu3rTx",
        "outputId": "d9220581-667f-4f05-9f00-68a84103c6c7"
      },
      "source": [
        "os.listdir('/content/avia-train')"
      ],
      "execution_count": null,
      "outputs": [
        {
          "output_type": "execute_result",
          "data": {
            "text/plain": [
              "['ed0bbabf-77d8-4930-9802-a3fe85c42cf6.png',\n",
              " '0623405c-3552-4404-a39e-d25e60ec4a02.png',\n",
              " '7e21e5dd-510c-4be7-8dbc-f6696d336fb4.png',\n",
              " 'b817b8f0-8bb3-4454-b404-c0d111bfcd95.png',\n",
              " '0edfb3af-dec6-48f6-8a82-8b6cbfb5716f.png',\n",
              " '8a84adad-5aa9-4c31-a821-24135d128f5b.png',\n",
              " 'cb437ece-4823-46b7-875e-edb2aa0bf9d2.png',\n",
              " '6b09a49b-95a7-4d7a-8369-5d7c7eb4bf7c.png',\n",
              " '0f36b4a2-06c0-4144-9ee1-b2c5eab00a36.png',\n",
              " 'e1d10d7a-dd5f-4dc2-aaa5-929c7b340826.png',\n",
              " '64183948-c30a-43ca-bb43-21aac3ed501e.png',\n",
              " 'f2561a9c-8fe6-44e8-8480-cbd59d621e11.png',\n",
              " '0e637409-cc3f-4ccf-9826-c55eb524c478.png',\n",
              " '7d7c361d-2b00-43bd-931f-d0e68964024a.png',\n",
              " '54b326c3-e65d-41b7-986d-5f25886f6758.png',\n",
              " '918eaf70-4de4-46af-9889-9595747901d0.png',\n",
              " 'f0405305-b4dd-4916-a47a-bd355ebb4a56.png',\n",
              " '0513c1f8-73fd-4a71-8fe5-390e351e7fa5.png',\n",
              " 'd16f709e-0b20-4c62-9070-e6020ea818cf.png',\n",
              " '6f9d3133-8095-4b1a-bd7a-11eeb82b0afc.png',\n",
              " '94a7a48a-a265-442b-8d01-ab0b2c39aafc.png',\n",
              " '84e96755-f9dc-4945-bddf-d4efab23ae51.png',\n",
              " '4e7448c7-1383-4140-89f5-8a07157848f3.png',\n",
              " '659ef3f2-48de-4d50-ace1-2d20523087ad.png',\n",
              " 'a9b96150-1659-4cdb-8590-a51f5a37cf31.png',\n",
              " 'd3824fe3-2064-4dac-a0f3-1046825631fa.png',\n",
              " 'e01fc7e7-8399-4471-a62f-96ec09bbe282.png',\n",
              " 'd88c57a2-76ac-4b5a-9404-829d5808ccea.png',\n",
              " 'a69ef150-7ad1-411f-ae00-b3c86ea87334.png',\n",
              " 'ec5e88f6-0e07-498e-ba8c-51cbc2aecd84.png',\n",
              " '217f7c7b-0b34-4547-be46-0e3c632db920.png',\n",
              " 'e960fbd4-c3c6-46f7-8fa6-e31e3829f917.png',\n",
              " '7db71f27-a664-49c0-9ee8-eb1dd44d1f03.png',\n",
              " '9d02310d-c5bf-4b10-a752-a4e0f47a4328.png',\n",
              " '91b856bf-dfe5-461c-ac5d-d77fe40df500.png',\n",
              " '7282c7b3-0643-43e5-9469-1336a9f7b76a.png',\n",
              " '22a85cd2-29cd-4004-a2ad-7b5caa78bf87.png',\n",
              " '542f17b8-9217-45a4-9409-65855fce767b.png',\n",
              " 'b3b8943d-80e2-4d3b-87a9-340c2d4606a7.png',\n",
              " '717e3b49-d84f-464e-ae81-1b9f6f0c228c.png',\n",
              " '6b24f0d6-e891-46db-8a5b-b97ec49d7c0c.png',\n",
              " 'a4735dc4-3a90-49d6-a4f7-b2d5af7dabb2.png',\n",
              " '0208cab3-b412-46ec-b81a-00318c7e6345.png',\n",
              " '078560e7-f3cb-4ddd-b41d-9effcb5b93e4.png',\n",
              " '9500b722-0591-4a66-845d-76ccd6052691.png',\n",
              " 'e0bfc672-910e-4c03-b6d9-227ca6c06d6b.png',\n",
              " '04584678-8488-4b1f-9ced-62e075c47a12.png',\n",
              " '27c88c8a-f1e8-4d11-aebe-684b08cd5427.png',\n",
              " 'd7f0d975-b51a-4431-8e4f-c38c8396862f.png',\n",
              " 'b672ce88-97d4-44b6-9036-26ba6b28d564.png',\n",
              " 'bbaa6da4-954a-4f5b-b54c-696f4c65aaf2.png',\n",
              " '552da7ce-b35d-4e7d-9f25-82b097cb1811.png',\n",
              " '834f5b14-b37d-4062-b2be-b9cd350d1372.png',\n",
              " '76ce039a-5058-4d7a-b7f1-62551c51e727.png',\n",
              " '552da694-ff31-43df-80f4-607ac2f7b90b.png',\n",
              " 'b0d44e9f-ddea-4c44-a90e-af68cd388a71.png',\n",
              " '83e258c4-6d25-4314-a45d-3a5c8d63e9f0.png',\n",
              " '90ba2f3b-dccc-40a7-a8df-35eafd0a9dd8.png',\n",
              " 'a4dcc1ac-d9c4-428b-b6cb-6c2e8794c01a.png',\n",
              " 'd9fd7825-9dca-4403-9232-a3f46cba67fe.png',\n",
              " '97c5d238-6dac-4e50-b9de-be67b90f508d.png',\n",
              " 'a2b8fc85-ce48-4260-879e-85e1db661401.png',\n",
              " 'e63e38c6-9c26-4e9c-944d-952b71694263.png',\n",
              " '1c692985-2658-451c-b588-e20ad699d2bc.png',\n",
              " 'ecceb129-9ec4-47f1-8ead-689b4b772016.png',\n",
              " '754019f3-267f-4e93-b6b9-3dccbfebfef7.png',\n",
              " '17276abb-85a3-4dc1-97b4-c2e613731e25.png',\n",
              " '12c813c5-b8aa-4240-bd52-6b66a610d457.png',\n",
              " 'd8cdcf3c-ddc9-483c-a786-207c50c44db5.png',\n",
              " 'f9a60121-7179-4fca-b2f7-700b7901a8b3.png',\n",
              " '414768db-5c32-4a1d-abf7-377eafebcb8e.png',\n",
              " 'b58e4202-b15d-4519-986a-acbb26041e57.png',\n",
              " 'fe15b769-f79e-4cf0-a2ab-550305190bb4.png',\n",
              " 'db08d053-a804-4275-87e5-c8c753445e99.png',\n",
              " 'd5ead654-029d-47f5-8d0b-dfb923cade6e.png',\n",
              " '02f74c32-4206-4dd3-948a-0024a531af24.png',\n",
              " '5269dd48-7d62-49b4-829e-6b1a160f834e.png',\n",
              " 'b4a189af-a783-4e75-80e7-0a6c91624bc4.png',\n",
              " 'c1e5d0e8-3453-4608-8741-218a45e568f7.png',\n",
              " 'f2335522-5adf-4c1a-96fb-0192903b0b37.png',\n",
              " '2ad5a4da-222b-4952-89df-34c66e84ff73.png',\n",
              " '137ce940-0ec8-4851-9017-c70cea8366e0.png',\n",
              " '7874a9d3-393b-4874-ae34-a9f04f9fe6ad.png',\n",
              " '3d8cc9fd-8ab8-4f6e-ae3a-1b0968efef77.png',\n",
              " '91a3f538-f7ea-4024-96f4-01a0f05b3479.png',\n",
              " '439a2160-0968-41b6-ba6e-460f0e377ad7.png',\n",
              " 'e16f9c92-3c03-4e87-bfd5-0913dd53b210.png',\n",
              " '0d90be53-21ae-4e4c-92b8-ee3a37821ded.png',\n",
              " '3b4428f6-9923-4a94-8b94-0432651ff0fe.png',\n",
              " '6d1aa9a3-789d-4bbe-b02d-a4d86942a63e.png',\n",
              " '20f57ab3-567b-4b8d-b47d-9c89b44eaf6a.png',\n",
              " '91e5bee3-fffe-49db-80cb-f1486bf71d37.png',\n",
              " 'e8b08bfe-5efd-431f-be31-c7a727a54013.png',\n",
              " '989bc551-f9a4-4dc3-9dcd-c412908376d8.png',\n",
              " 'af387c3b-5bf8-47db-867e-0754dd50a6a6.png',\n",
              " 'da48ba5e-0a62-4188-8907-7ef543f3020b.png',\n",
              " '6cb10a5d-839d-40ea-b06b-2144c13e213a.png',\n",
              " 'e33ebbc4-4331-42d8-9545-80a1d5a9941e.png',\n",
              " 'cca4d362-60da-4a8e-876a-0c011cf04c5c.png',\n",
              " '950b4284-759d-47b2-a25b-f7eed3638d36.png',\n",
              " '7b22cf47-1f14-4f22-a44c-349058b5e4bc.png',\n",
              " '45dd032f-f8f5-48b1-bdf3-a1ff04cf23a0.png',\n",
              " 'ef7ef5e7-5bb2-4f3b-846b-b57839d00766.png',\n",
              " 'b3d2470a-a825-4f32-9404-86d4bcbc3b8a.png',\n",
              " '369e1221-72c8-40ab-a793-732ef7030c3d.png',\n",
              " '90f15d76-d636-4a99-af49-84d7ebb28965.png',\n",
              " '147bbfab-a78d-4468-b04d-d34a1bc7fd61.png',\n",
              " 'ae9c2af0-a149-48ec-b252-c6b80737286a.png',\n",
              " '010b9974-24f6-437a-a16a-497bc6ef80e5.png',\n",
              " '2deb8a16-2a92-41bf-a190-2cec957dea52.png',\n",
              " '6de3091e-9037-4055-9fb7-cf8893e233c6.png',\n",
              " 'fe3f0592-44f7-4c94-80ac-86668264d591.png',\n",
              " '8a22b366-041b-4b04-8908-481d2a1051c8.png',\n",
              " 'f1a2a5a8-7f4c-4963-8842-82a9a3de791b.png',\n",
              " 'd3532dd7-51c6-4722-b64d-7dbf195cea94.png',\n",
              " 'b2aedfb0-062a-4153-899b-681483ed6cd2.png',\n",
              " '542c2daf-afb2-46fd-a324-e2a98e74835e.png',\n",
              " '4df256db-c02e-4f15-861f-98d83e8e55b3.png',\n",
              " '29113aed-cf05-4e88-879b-965d8f40ae21.png',\n",
              " 'bbfa06a1-0c1e-45cb-9ad0-1b0a2b993a20.png',\n",
              " '3a777e68-52c3-4c40-b0bb-fcf407aac355.png',\n",
              " 'de82af66-a8bb-4aa3-a9a0-15c51d953918.png',\n",
              " '1dd3d98a-16f4-4383-9c11-30f98279449f.png',\n",
              " '769e9d7a-ee2b-4782-ab40-63684a051974.png',\n",
              " 'e96d1d09-e2da-492f-86ce-d730c05e1de6.png',\n",
              " '3c4a9bf3-c25d-4a80-bcc4-bb9de73c9491.png',\n",
              " 'e11dd12d-0443-4c70-934a-29653eacf12b.png',\n",
              " '131fa5c1-2c97-47c2-b042-6d3d0f9f69a3.png',\n",
              " 'c8fd0a32-fda0-453f-89d3-76f950295bf5.png',\n",
              " '73c5f365-6c69-4f0f-b564-2faba7755530.png',\n",
              " '9db0214a-51c1-4693-8f48-d479edd8910a.png',\n",
              " '4702f153-8f67-4137-bb43-f6a422f46652.png',\n",
              " '37e79c44-0b8c-4de2-9a75-076d8db5a967.png',\n",
              " '6a29c089-1203-4a6b-aaa6-7af5125a2462.png',\n",
              " '242c9558-ff46-46fd-81c6-ef7735b5dc4a.png',\n",
              " 'ae6c9762-14d8-4287-9a1b-34a3d31faced.png',\n",
              " 'cd6b19ec-ab02-4824-89e3-14400d63b82c.png',\n",
              " '1ba171b8-dbae-48f5-8110-f4f3d25c6e13.png',\n",
              " '13118b52-2447-4a0c-9c85-6e52e9c895fc.png',\n",
              " '187147ae-1443-4d41-b701-21df9bca80e2.png',\n",
              " '138d9784-ac02-4e4b-93cb-ab65f5708cd3.png',\n",
              " '3cd1b89f-6dbb-4d74-ba63-e696bec08cf3.png',\n",
              " '7da5ba3b-8734-445e-be97-62d6d53b43b5.png',\n",
              " '8099c291-afcd-4264-b7ff-2cf70fe2b3bf.png',\n",
              " '74ed75c2-44e0-4cc7-89ef-7cc4326fdeee.png',\n",
              " 'a1b3fc2a-15ae-4090-a54b-4ee316881ee0.png',\n",
              " '8d72281d-e9fd-4f83-b6b9-0301d1f2d925.png',\n",
              " '65f0bb9f-a560-43f6-952c-b78d04084c05.png',\n",
              " '1e42272e-4308-4a9b-a5a1-0dd03dd0663a.png',\n",
              " '2cb64456-bc9e-4cdc-a164-6b44f8cd0234.png',\n",
              " '1f5e4648-35ae-4f9d-9d5d-b16bddce30df.png',\n",
              " '2cdb984c-1836-4fd9-a84b-a4cba2e2ecbd.png',\n",
              " 'e2d7e8d0-f894-48cf-b883-b6bc222d80f0.png',\n",
              " '2ef9b6f7-db9c-4b03-aa1a-be29939a0f94.png',\n",
              " 'cd21d935-637f-4e8f-b5e6-350ca9bc727c.png',\n",
              " '9c4d03a0-c2d3-40e9-a2e5-08d29db5e487.png',\n",
              " 'b52a4ddc-ade4-4f13-aace-70a76142e3b4.png',\n",
              " 'f38b617b-eadf-4a84-ac59-58b0b9c23493.png',\n",
              " '1167c79a-e148-45aa-8a0c-473ba498b306.png',\n",
              " '10b79921-d24e-4df5-8bad-948be65426b2.png',\n",
              " 'd0ccf8ba-55d5-4d30-b0e4-530cc3a410e9.png',\n",
              " '8dcd0303-183c-45b3-89e4-6e11de47a014.png',\n",
              " '5439287b-e428-48d2-b39b-573f77c3004a.png',\n",
              " '8dcbbce9-3ebc-47cc-9cea-45d48b72e815.png',\n",
              " 'dff97043-bb41-4587-b894-ea4ce7e3b4c9.png',\n",
              " '190c59a9-0ce5-4a8d-a778-6a5f2b8034b4.png',\n",
              " '267f06a6-bd19-4d01-a492-2612467ff0fc.png',\n",
              " '286da589-bc58-4b62-af3d-439281cb0faf.png',\n",
              " 'a0fff32c-ed71-4e10-b668-7c050e7e5740.png',\n",
              " 'b76f78cf-9a8f-4626-9739-3db78a8fdbbe.png',\n",
              " '7955dc53-03cd-43ff-b6f1-ff3a97da5fca.png',\n",
              " '858603f3-d4cc-4ef2-9b10-6d671477e6b6.png',\n",
              " 'ad0067e6-9517-4cbb-8faf-33fdee0a3243.png',\n",
              " 'd4b151e1-5f6e-41eb-aa5a-7191e3c5a1e7.png',\n",
              " 'd0f77e51-9106-434f-b7d3-98976d799a85.png',\n",
              " 'f2246d4d-7ce8-46a8-a95c-56e92b279ab9.png',\n",
              " '4a88a5dc-8bcd-4d50-aff0-a493433f7afe.png',\n",
              " 'f0440ef6-dbdc-4035-a3be-8e42e43b4d8c.png',\n",
              " '7d0c48c9-02ba-4e53-97f8-2ec0bdda442d.png',\n",
              " 'b89d6c62-14e0-4955-8c69-ece285d96215.png',\n",
              " '1ba23b36-1720-47c4-b0eb-a34eb4c70291.png',\n",
              " 'a96f6f1f-fa6d-4b6a-a905-91e26df3ee50.png',\n",
              " 'f2b811e7-438f-48ea-9f03-62abeee9221d.png',\n",
              " '074d2544-7343-43ab-90a2-7c4e323eea2d.png',\n",
              " '7728d96c-2426-474c-a471-46167d8f2bf5.png',\n",
              " '335f304d-de4a-4244-9297-bcee481e7c2a.png',\n",
              " 'da09e25b-ea82-4fce-9bb7-e18f38fc1f32.png',\n",
              " 'f64fa541-18f7-4541-85d9-bb135f399ad1.png',\n",
              " '5e2b4a0f-4fec-4e0b-9639-cc46969ae57c.png',\n",
              " '672f653e-604e-494b-b9e2-1c60ddb8bf63.png',\n",
              " '246ef9c9-9652-42ae-b2e2-41dc8638e8fe.png',\n",
              " '76ff53b9-78ef-4cbe-8ea2-67182daf5c11.png',\n",
              " '584cc722-4f25-4fa5-bbb7-1c208d9f1184.png',\n",
              " '27e19f49-95f6-4e6e-b46f-5e5c999a71e4.png',\n",
              " '9f60984a-85d4-4f06-bceb-880ee184b88b.png',\n",
              " 'ad5b2e60-7c32-4492-b84d-63d029cb93ee.png',\n",
              " 'e4e8f841-e420-481e-b921-ff1bdc39a826.png',\n",
              " '5584a59d-11c6-44c0-b069-ebc3c87363ec.png',\n",
              " '89f97918-e155-477f-a27a-fb3e66880fdc.png',\n",
              " 'd1e98fac-1edf-4f62-b71f-a0ec4f37ff6d.png',\n",
              " 'e38e03db-fffd-4838-9b87-8a9b29eb8a75.png',\n",
              " 'bcf915c5-a21f-4f5c-91b1-ad02e592d311.png',\n",
              " 'e4c6e155-b991-4894-bec7-5b8f8593caa7.png',\n",
              " 'f42a3926-31c3-4c44-b052-d6b87804e248.png',\n",
              " '09cb9ea0-b44f-42d7-a6c4-1d02e8912691.png',\n",
              " '7ec1e045-7d67-4a5a-beba-df064112bc85.png',\n",
              " '40ae1b31-5cf2-4c59-96dc-51201be1df06.png',\n",
              " '829d11e8-78e8-4899-b7b8-717b250a35cc.png',\n",
              " '98700cc1-c576-461a-a0a0-19eae03cc820.png',\n",
              " 'b3601ee1-9f3a-4a40-8838-d04f1a7b2069.png',\n",
              " '2334f3be-5029-4bbe-927f-7cdabe0417d5.png',\n",
              " 'fc193ec0-012b-488e-b39f-56e4eb99acb4.png',\n",
              " '5d0db467-9331-460a-920e-d6fa9668e969.png',\n",
              " '76db367b-bc7a-4aa4-9c2e-ff49d118afa3.png',\n",
              " '2d2713a6-4b1e-4672-874d-cc97baad6be9.png',\n",
              " '055a9b2d-2fd1-4c14-a4f7-c164554e26e0.png',\n",
              " '770820fc-5ae8-44b0-82aa-95bc845c3f75.png',\n",
              " '0e2d3ef6-c812-46fe-b439-6132049c3b4d.png',\n",
              " '4a9e1073-d2d1-49b6-8b46-6ad5010ff34b.png',\n",
              " '594ef058-7bf4-4cc0-99a4-dc4d5a428aa5.png',\n",
              " '7f952155-8c7a-43fb-ad70-18755b75224f.png',\n",
              " 'f3266bfe-2964-40cf-a212-e4de66f5480e.png',\n",
              " 'b2d7fbbe-a6a0-4308-b678-7d0f79cca4b8.png',\n",
              " '4de4fe15-cb0a-4d7b-90f8-351de83d6125.png',\n",
              " 'f98839e1-d847-44f5-b9e2-4f61542c3964.png',\n",
              " '1dd09a25-08d0-439b-a915-1d1773cd178c.png',\n",
              " '201dd2ef-3e19-4f00-9aa7-fb3109cd7751.png',\n",
              " 'be00b8b7-8f3e-463b-a2ce-9ae94213f5c5.png',\n",
              " 'a6898c82-9e35-48b0-82db-e8bdbcf2b704.png',\n",
              " 'd5e5d141-57a3-4c97-b692-cc33d09b16b4.png',\n",
              " '4bc0cecd-923a-467d-8a71-8a00283c0e3a.png',\n",
              " '9ee7005b-eed7-4b14-ae61-6cec8d82dc35.png',\n",
              " '768307f2-35b1-4e96-b3df-80ae706c1b15.png',\n",
              " '37faf10d-3230-438e-8954-ae938ae91d4e.png',\n",
              " '971abbb2-b144-4ad1-9516-516aedba563b.png',\n",
              " '67f61d43-6632-400e-b141-1f4d5c631aa5.png',\n",
              " 'e654941c-3235-4069-a03c-8ee9cace40a3.png',\n",
              " 'f75e26a5-887d-4448-9469-59ab059893dc.png',\n",
              " '8072077e-fd13-4de0-84ac-946445443c0a.png',\n",
              " 'f033dc98-dde8-4df8-af39-91a02a72993c.png',\n",
              " 'dc1552b5-a850-4eae-bf11-77576c437206.png',\n",
              " '9b69d4a1-8739-40a5-9fe5-a885f498c6f8.png',\n",
              " '6578d0ea-1553-4c86-816e-df664c06519c.png',\n",
              " 'ef5aa848-219c-46e6-b0e8-f189c00344f3.png',\n",
              " 'd93ff1ee-87b4-40ba-a272-2bf4a40ae45a.png',\n",
              " 'f6d7cd82-52ec-40e4-bdd0-e83a1edb207a.png',\n",
              " '915be5a5-8d7e-4b06-9cf2-733097c2982b.png',\n",
              " 'f1bf8f35-8f08-49da-981a-995c03d1fedb.png',\n",
              " '006eaf39-7798-4c8c-a016-a0887b6e91ab.png',\n",
              " 'cbe65f51-70cf-47ce-bd81-7e0557849fe9.png',\n",
              " 'e1e3bba5-2e73-42e8-a3b9-325fb56a3cfa.png',\n",
              " '349dda83-bd09-4d01-a2c9-50bcfcf3b46e.png',\n",
              " 'ffbd4a5f-196d-4bbe-867f-8cbce636b5f9.png',\n",
              " 'c7fb810f-7de7-483e-9770-ed2a7fc473dc.png',\n",
              " '11826c30-e6a3-4c0b-9753-76b9c4741017.png',\n",
              " 'bd09b357-caa3-49b3-8788-6514c76cd856.png',\n",
              " '7c21c955-9abb-42b4-9f87-6bb176c6a99e.png',\n",
              " '4567a046-cc28-49a1-98b0-55751a4732a9.png',\n",
              " 'ef38ddb3-f151-4af3-b6a1-eff875cd44d7.png',\n",
              " 'a327f689-975e-4700-bbf9-991254810e5e.png',\n",
              " '70fc2f6b-c7c4-4b4c-8593-d9e44807722a.png',\n",
              " 'b7f6c2b1-8649-44e9-bf9d-ad3657b25dbb.png',\n",
              " '8b23ca59-be74-4913-b343-955c3c05c908.png',\n",
              " '4ab6e42b-a72a-40e9-a66f-3d8814e03fc3.png',\n",
              " 'adcd333e-8186-4ff6-b07f-3814d5b6dd2f.png',\n",
              " '02a4124e-634b-4990-a38c-96309a6fff6d.png',\n",
              " '7c377d6c-8adc-4389-a915-54f3721f143c.png',\n",
              " '0685d15b-dd61-41f6-9c6e-3d741f89d34f.png',\n",
              " 'f48642cc-4a0f-4b39-8426-e6375e552b75.png',\n",
              " '0f3fed9c-d9d3-4752-b8c6-d06c306204e6.png',\n",
              " 'e847faed-4289-43a0-94cc-e17231a8ee19.png',\n",
              " '4ad0dbd9-50e1-492a-b681-28cb7af75d21.png',\n",
              " '5115b727-2bdc-49b2-a1fa-9454876b4921.png',\n",
              " '627a2aa6-820e-4472-8071-db216851e6c7.png',\n",
              " 'a2b35163-e4da-492c-a64f-40cc14059bce.png',\n",
              " 'b1efc9cf-0b01-4af9-9f97-debb70f1df99.png',\n",
              " 'cd8a9166-570b-41c5-9459-314b7f008b3a.png',\n",
              " 'c4043e5d-6619-4f5e-b57b-47e239960499.png',\n",
              " '63d5c0d8-87c4-42b6-930b-a35ee20c2919.png',\n",
              " 'b889fc89-693a-4434-83a8-3be1c9fe978e.png',\n",
              " '151b2107-6662-4070-82f9-5623cf07ef4b.png',\n",
              " '177b13b6-f230-496a-9c33-a85f8bc3bec1.png',\n",
              " '9dbe30a1-1411-4a0f-9ecb-8c983f47dc2f.png',\n",
              " '3fb68433-6d23-4865-b827-945b5ac4f169.png',\n",
              " 'f5eafb63-67b0-4fa9-a6b5-22ca998fb4d2.png',\n",
              " '1015d291-5829-4bd0-af87-b54e753e6866.png',\n",
              " '17231068-47f1-4f54-8514-63e4fe5ee7a2.png',\n",
              " 'cc9e91c6-3768-45c2-a220-f88802eff678.png',\n",
              " '81634b00-e274-474a-a35a-b7580c827e5b.png',\n",
              " 'ffae1587-e092-490d-a0d7-2f472236a256.png',\n",
              " '5b4790b1-1c2d-44ad-b66a-d5389c8bca47.png',\n",
              " 'a92f4384-5f4d-4f49-a961-fbc79f640442.png',\n",
              " '81170769-88f9-49e6-a9da-ece7db0bc93c.png',\n",
              " '07318d93-5abe-46a2-8112-ddb3c52252df.png',\n",
              " 'de735074-4f5c-4e4f-9f8c-01fb93e4a5bc.png',\n",
              " '7c0dae45-f245-4f64-9850-a825d0bfcf02.png',\n",
              " '90189f81-de0b-4fdf-91e0-9e01ffc7e22f.png',\n",
              " '9b232c44-0e0c-4700-8748-4a4601bf40d4.png',\n",
              " 'af666ede-5616-45d5-b911-2fe5b9d70b0e.png',\n",
              " '77b48c53-0276-43b0-8287-87cbb8403f74.png',\n",
              " '49243e3c-ae02-4b4a-a274-6425bbb5a29f.png',\n",
              " '7aea4dfe-9723-40a9-8962-00916f1e025f.png',\n",
              " '9b8359bc-a68f-4a48-83b7-d15f0656a2a8.png',\n",
              " '3c28f94b-6fcf-4ddd-bbf4-d19ab83c5b68.png',\n",
              " '27262c79-3c7b-4eda-8a37-a9725f4104bf.png',\n",
              " 'a196b114-d048-4643-9b23-84eada69d8ad.png',\n",
              " 'ed31b680-874b-4909-b490-19ea9b665bbe.png',\n",
              " '2662785d-7363-4a2c-8e04-3a5586ce998a.png',\n",
              " '40b8c492-da74-40e3-891f-57fb9665f340.png',\n",
              " '22007297-c79a-4832-b403-5bec9a82b1a2.png',\n",
              " '49f4b99b-f0bc-4a52-97dd-e95fb6d1c41b.png',\n",
              " 'c147a7e2-d4e2-46ab-96b6-e66c77c90b6b.png',\n",
              " '75360181-e0d3-4732-b339-762149ddb78a.png',\n",
              " '3228e0e7-b21a-4124-b31f-e002708848d0.png',\n",
              " '7e65049b-4ac4-480b-8cea-a8f2eb128d7e.png',\n",
              " '36ce49c2-d4e1-46f8-a1c9-12292c53669a.png',\n",
              " '0bcd3ba4-66f3-431f-a60e-421f0162e614.png',\n",
              " '82e7c68f-f800-4322-a09f-0d6aa29dd029.png',\n",
              " '2516e46a-5e4f-4aa8-acb5-0efabca10c7a.png',\n",
              " 'e882bfa0-a3ca-4da4-808b-64fcfa796014.png',\n",
              " '96d4f28a-7116-4935-89e3-6ccf207f44b2.png',\n",
              " '5ba8327b-b7ce-418e-a124-676ef069708e.png',\n",
              " '6dc72e1a-e3f6-4989-baa0-a63672a619ae.png',\n",
              " '6a777014-abc7-4970-b928-91be41471445.png',\n",
              " '82fb1230-e76d-4342-8414-4c60f6ced410.png',\n",
              " '1b7245c2-dcd8-49d5-9735-f7902c0c962c.png',\n",
              " 'e8951cf1-3150-4292-8171-8bc559834297.png',\n",
              " '52c1fd21-2832-4e27-8f87-9a5436672bd0.png',\n",
              " '2ddcfac0-70ac-4d08-a746-ec4da974192e.png',\n",
              " 'de8ba5ea-3bcd-4cb1-8b1c-1c69f08cc312.png',\n",
              " '813a55fe-6205-43fc-8ad7-d8e41ee54f06.png',\n",
              " '74093a18-6a03-4581-89d6-ec3b08260d91.png',\n",
              " 'aa2d6742-d376-4a46-9ea2-3a65f1c67d52.png',\n",
              " '71036396-7437-43b2-a7ff-fdf61934a62c.png',\n",
              " 'e1943a8f-b553-4957-98c8-6a4d4da500fb.png',\n",
              " '8c4b224b-0f59-4e07-b1a9-f5089ed4825d.png',\n",
              " 'dbb176fa-0280-4285-810b-3806263025f1.png',\n",
              " '022ad071-80f8-4c9e-a8f5-89a02fbbc858.png',\n",
              " 'c5202d5f-7991-4168-9855-b223b77580e9.png',\n",
              " 'c826d686-7cfd-4595-bcd3-e53dea48c00f.png',\n",
              " '50175d44-1be0-4428-9b03-2113f595d8a6.png',\n",
              " 'fab604e3-6528-438d-aa3d-e09014fdd05e.png',\n",
              " '9c71d466-c0b0-4bf9-a39c-df8b616aef43.png',\n",
              " '4f69022e-168f-4a6e-b72d-2ac9543be6f2.png',\n",
              " '9769df34-7a8b-4dde-b12a-dde21d0f5917.png',\n",
              " 'cd8063b9-6a4a-4ae9-aed1-5f08f262ab83.png',\n",
              " '92006ea2-bb41-430f-92cc-a506aab5de81.png',\n",
              " 'c4118722-1eab-449a-90b9-4eac610173a9.png',\n",
              " 'ac0f632b-61ea-427f-b256-8575ed095a42.png',\n",
              " 'cd0e1e1b-f3a6-4238-bddf-a9a360906394.png',\n",
              " '47cdce6b-adea-4ee6-bb0b-ef2618f4f9f0.png',\n",
              " '4f9c232d-127f-4990-a3fb-3c2954bee939.png',\n",
              " '9584d678-85fb-4dbb-a45f-4cb0b8282edd.png',\n",
              " 'f4a8c83e-7467-4a6a-9f2a-3372c921e608.png',\n",
              " '3c41477c-524c-4fac-b0fc-09f472a0cb36.png',\n",
              " '2cd2df70-c0b9-42c3-8364-34ef819704a3.png',\n",
              " 'd0111d2b-745e-40e3-b138-479ad05f8b41.png',\n",
              " '5c663f90-191b-4546-8468-2e13f1e3fca5.png',\n",
              " 'f94caaf4-9fa0-4fa2-a598-94ce11927b0d.png',\n",
              " '10202c55-baf6-4955-b547-67022c72117a.png',\n",
              " '6459eba3-814f-4652-8369-e8c259228a0e.png',\n",
              " 'd47d6c43-1644-4076-9006-3ee1cf901e00.png',\n",
              " '26a84e9d-0c33-4317-bada-65a53805ac45.png',\n",
              " '1ea86aaf-614b-4c00-8713-ccaefb2960ec.png',\n",
              " '709edd1c-798f-4684-80b4-97c38d04457b.png',\n",
              " 'da9fb533-11b1-4aa7-83cb-e9d2bc9930d8.png',\n",
              " '42d519f7-0a3a-431e-9d02-1d3c1f86fc48.png',\n",
              " '5a6de431-82f3-4627-a195-d17225555e8b.png',\n",
              " 'abe11249-4eb9-4bca-a4bb-2a4470a24df5.png',\n",
              " 'ffab5271-d670-4a38-80b9-062479d06c92.png',\n",
              " '8f3e2280-590e-46bc-a60c-adae94feb579.png',\n",
              " '38fe282e-1e84-43ee-86f2-9db3a8c2570b.png',\n",
              " 'ac410426-33d7-43c4-b78f-6ab36b096fa7.png',\n",
              " 'b5108abe-0edd-477f-8315-7f8aab421f1e.png',\n",
              " 'f56c9afc-d830-461e-aaa6-c67a1c34e08d.png',\n",
              " '2a507633-fd5c-47f7-bc52-4359b508d289.png',\n",
              " 'b657eda9-3a73-4088-bc6b-b68fad9148d9.png',\n",
              " '5a20b453-b401-459f-a4f5-5535fef0dc67.png',\n",
              " '7d27f0f4-9870-42a9-8224-d3915f9c3a7f.png',\n",
              " '401370a2-97fd-4e2d-9cb9-bd38b82bda86.png',\n",
              " '4a646b1b-5479-4e49-9c37-0fff4ec822fc.png',\n",
              " '9e2010c4-a9e8-4c2e-a174-e66d209e1ef5.png',\n",
              " '30b889d7-b876-4aa2-81a6-9f4316da2f35.png',\n",
              " '43e3d56a-ae5b-472e-99b8-c7f52dfffa9c.png',\n",
              " 'b1634121-2734-4dfd-965d-ddb8036e4e19.png',\n",
              " '4956d7f8-f9e2-4eab-ba10-1e9022b748fd.png',\n",
              " 'e60c8660-4d94-4e31-b5d2-63afe3694da4.png',\n",
              " '1cd95abe-00d7-43c6-aa13-d42b87fc4108.png',\n",
              " '8edbe0bb-0f5d-4f1c-9420-6be36b503551.png',\n",
              " 'ae370175-d980-4610-885a-b070818b73b9.png',\n",
              " '228f1b23-9111-4cc5-8803-306f82745e61.png',\n",
              " '4510326d-d0ff-41bd-b41f-99f8349ec082.png',\n",
              " 'efa7196a-b47b-481b-933b-e12ea760bfbe.png',\n",
              " '45bce4f7-ebe8-4507-a64f-be3da5ba8231.png',\n",
              " '4de8f3ae-22b9-432d-ba44-a34004e80c48.png',\n",
              " '92edb82b-dd84-4b5a-b12a-4556a8f466a2.png',\n",
              " '903253ff-f88d-45a2-963f-29a04bc646c5.png',\n",
              " '7485f05d-e87f-4457-b7d3-81ed5a7338a6.png',\n",
              " 'f8590c4d-0538-4818-af8f-a3a261a6f0f9.png',\n",
              " '63cb71f5-edd8-4ea6-b062-b216bbc8fc4a.png',\n",
              " 'ea1366e1-d68a-4120-b270-083f28e6f4be.png',\n",
              " '6cc7da49-1b9b-4fae-94b1-801276f2a7ec.png',\n",
              " '44ac3fdb-1187-4c6a-b112-f6d7d3a34226.png',\n",
              " 'f32caec7-54a5-4a8b-82b5-62da854afcbb.png',\n",
              " 'fe4b3de9-dc78-457e-b161-30e014bae1ef.png',\n",
              " '341cc6f6-cba2-48ec-9244-d2ba763ac2cc.png',\n",
              " '399b9310-40ac-4ca7-9de6-bf005d2f5f71.png',\n",
              " 'ae7ceb6a-2ed5-436d-8c5c-fd02ab91bfe4.png',\n",
              " '0ac97df0-f7a6-4a0c-8322-c9b1219336ba.png',\n",
              " 'f1cec3c7-baf0-4973-8974-1a2cc93e86ed.png',\n",
              " '53e36b8c-a301-4861-8064-bf16b6c580eb.png',\n",
              " 'e17604ba-98fc-49d2-a1e1-e0bd020d00a3.png',\n",
              " 'f29f189d-0d63-40e6-9368-4560df5e6648.png',\n",
              " 'a9415e23-ea8a-40e1-a0d6-2399c0b44f47.png',\n",
              " 'e23c9e8c-4bdc-414b-adfa-e5a42a33f6f7.png',\n",
              " '096459f7-48d2-481c-8cd7-14153c2c1868.png',\n",
              " '46263a3d-b1c1-4d53-aaad-7354b2fe0418.png',\n",
              " 'febf1268-ab60-4886-8519-65f5b166ed53.png',\n",
              " '1a72875e-29bc-4879-961b-4b89b9f765d9.png',\n",
              " '43479065-4f4c-4a66-8814-e73aa0c4e38f.png',\n",
              " '850290af-ff26-42f8-8440-de7d696e5fb0.png',\n",
              " 'abc72faa-f4cd-4615-a997-949b8a8b81fe.png',\n",
              " 'd1eaa3d8-1f67-4d60-95ba-6f8612e14f5a.png',\n",
              " 'dc95656a-d542-4b80-9333-1105fcf0c857.png',\n",
              " '16914345-703c-425c-bddf-801c170c35c2.png',\n",
              " '73f79ce5-15d7-45c8-a4f7-563ce9059b97.png',\n",
              " '6c8c145f-614c-4e12-8cab-afe508680985.png',\n",
              " '736a8900-c39f-418b-8ea3-a4076c0093a9.png',\n",
              " '95d26f41-19e8-4783-b26e-6871123d5264.png',\n",
              " '37eac04e-9a08-4721-ab0a-7b9fc6b76813.png',\n",
              " 'f5fb191a-8873-4c99-a299-c85ab9187de7.png',\n",
              " '27beb1e7-74aa-4536-af51-b1e63d3c1008.png',\n",
              " '4e4ab741-43c6-4cee-b024-0bc19fe9390a.png',\n",
              " 'bbb3b30f-cf41-469f-ade0-a516bc04cac8.png',\n",
              " 'f9eb84ab-08ac-407a-8612-1ca3a7a5de07.png',\n",
              " 'a6d8d468-7d95-4930-95e1-00468940cf0b.png',\n",
              " '7a265b5a-a5dd-445c-9f36-e8e191c1b72a.png',\n",
              " 'a3f190a4-f11a-4f5e-bc65-f1a0d47b7057.png',\n",
              " 'c1c099ce-6c56-4905-847b-38612a009d24.png',\n",
              " 'ecfb3f28-ffe1-428d-9cd2-5560928d738e.png',\n",
              " 'c4113a54-a317-4ae2-abb6-d8b41fb15c48.png',\n",
              " '7df089f5-a321-4c76-9346-f616ac00d1e0.png',\n",
              " 'bfe2d256-c915-4550-8657-d9f1866101fe.png',\n",
              " '703736b3-d78d-411a-b334-6337e324d9a8.png',\n",
              " '8aa0d04d-005b-4455-b0b4-db98b6b8d795.png',\n",
              " 'f160d638-bfd8-4ba0-be06-57d6f2521790.png',\n",
              " '0e08a5cf-476d-49e8-9764-dc3fe455ada3.png',\n",
              " '55c5231f-35e4-44ca-b716-2bdbdb3b25d8.png',\n",
              " '8b863c7f-2cb9-46e2-b177-716252eb8f15.png',\n",
              " '8953d06b-c251-4487-8a2a-87ded054ba47.png',\n",
              " 'a5749e3f-ba92-4544-bac2-26d2d6f1924f.png',\n",
              " '36fb5dcd-1437-4015-b2ba-2fcea75a72e5.png',\n",
              " '30b1d709-e548-4d2c-9c71-6659e9ff7dec.png',\n",
              " '1e38e70c-5a82-407d-8005-15445da28fee.png',\n",
              " '0829751a-db19-4d59-a2ef-d3a6c5d47a99.png',\n",
              " '5d04fc1b-13a0-4c2e-84b1-628c9812e433.png',\n",
              " '31394b91-c614-4b3f-ae0c-16961b1d786c.png',\n",
              " '38846d0d-fcc2-4623-b1b6-4f4e8a90b698.png',\n",
              " 'b0c741b4-c591-4561-92c3-ed4afe436179.png',\n",
              " '6f0fcdf9-4546-4f07-a204-78380ba67188.png',\n",
              " 'be1c8110-0a5e-4c3f-826d-9ff5a8625ca7.png',\n",
              " '4528397d-c190-49e9-8b6f-94b4574d6478.png',\n",
              " 'f5c207b8-86cc-4531-85ef-857c034b8f1c.png',\n",
              " 'c56759df-ba5c-4da8-89a2-9c1bf3c0f2ed.png',\n",
              " 'aec4fed9-bda3-44bd-a617-52a1ad59e034.png',\n",
              " '5beb70eb-0433-45d0-b318-825c7fb003f1.png',\n",
              " 'dd7c0899-68c3-4f87-b7b3-fcb0fc963822.png',\n",
              " '3409d465-c41e-4d18-92d2-6e7aad348b96.png',\n",
              " '1c2495ba-8eeb-471d-a4c9-e3bbb30a8626.png',\n",
              " 'bcee448c-e466-41f6-bee3-4374a4d13a2e.png',\n",
              " '4ac0df6f-64cb-4b7a-8325-7b9bdfb587ef.png',\n",
              " 'a6fdbd48-84cf-48d0-b4b9-7f766875351d.png',\n",
              " '6d45fa2b-450a-4550-a098-525fe25f64c8.png',\n",
              " '09b76eed-777b-4253-a30f-19a6c48178eb.png',\n",
              " '09b80f01-dd36-431d-8365-964f6d5bc917.png',\n",
              " '0ac32c69-3299-4159-a5f3-39a6a2935e02.png',\n",
              " '020d668b-b1ee-4ea9-a10e-7698aacb7e82.png',\n",
              " '46b74083-d848-4092-b9d0-fce0f11661b1.png',\n",
              " '48554841-3a14-4603-b6c2-1884e3427b13.png',\n",
              " '0eefc84e-57d9-4628-bbab-d53d72bfe6e2.png',\n",
              " 'c6e0e696-2aaa-41dd-ad01-6d8d3464fbab.png',\n",
              " '6ccf1be1-45b4-4aae-af32-a08377b62b47.png',\n",
              " 'c6d74b05-4c5b-4604-8622-bbe88e9be19c.png',\n",
              " 'cece4380-f2b5-49da-b582-26adfe8a0491.png',\n",
              " '2bcf4f56-b179-46bc-9738-bd35a40e20a0.png',\n",
              " '6a5b5b84-f305-479c-9266-04444266db33.png',\n",
              " 'fa59969b-d585-47ef-b74e-0fbca706986e.png',\n",
              " 'c71e2e47-f53a-44de-b652-281e3a1f1a5e.png',\n",
              " '919f53a5-7b9e-4e84-be87-bc53c686f317.png',\n",
              " 'f13141d8-f607-47cc-8930-3c0e16d9995b.png',\n",
              " '6a798ad8-d1fe-4b9d-aeba-f956cc679951.png',\n",
              " '5b06f1c5-b58f-462c-a8ae-00fee559090d.png',\n",
              " '37dd2a40-9d0e-4ba6-af01-4435ab33d7a4.png',\n",
              " 'e6764c6f-3229-4572-a300-bb115596c93b.png',\n",
              " '58558c7a-9408-4e16-8485-5a66732eb9ce.png',\n",
              " '7cd58cc9-cf1a-4a4d-b2e5-a3894d39963e.png',\n",
              " 'af599442-3c88-4e90-a6bb-b966eb684151.png',\n",
              " 'da2d8e29-1f22-4866-bea5-4faf515d1de9.png',\n",
              " '3a3063e8-b57f-4e9f-9291-04f942799c43.png',\n",
              " '65e4817e-7a87-4f64-8537-c0c8d82ad6a7.png',\n",
              " 'ebd32b25-b970-4828-8e61-d4e2518dc3d8.png',\n",
              " '79a1bcfb-4903-45b1-8cbc-a9bca6521412.png',\n",
              " '36ea2c17-fa85-46c6-a334-b4d86bbf5295.png',\n",
              " '62ea56b7-87d3-4bce-a44c-a55086607c1b.png',\n",
              " 'eaac16ec-d2c6-460e-b248-bcead5704a19.png',\n",
              " '32889aa9-f43f-46de-a246-b5bc3ae30d9f.png',\n",
              " '090fe19d-7c7e-4a53-89ed-fc70b739b7dd.png',\n",
              " '6d48a780-7c67-4f77-bb59-137f92f8cfb6.png',\n",
              " '648804e0-b205-42f5-8d26-ba0565d60d73.png',\n",
              " '93d99103-43d8-4bfe-8b13-7bae98168b74.png',\n",
              " 'c91c2961-de1c-41b7-bf0a-a622a0f93853.png',\n",
              " '9b4b3a7b-7d86-41a7-987f-957c88df1f9e.png',\n",
              " '4b689e66-e1df-4763-a81c-d6023c240482.png',\n",
              " '5c8b641d-63ec-4402-b088-ee161ebcf3e9.png',\n",
              " 'cd80af70-75cf-4c3d-804c-8ebd34630056.png',\n",
              " '0f787405-95e8-48e4-aeee-284b0236e3c3.png',\n",
              " '9b594296-d413-40c1-9873-92517887c52b.png',\n",
              " 'de8471ed-447e-4b66-b704-51d3632158d1.png',\n",
              " '646d9c4c-5a3d-4c64-bf2e-2c4e25746699.png',\n",
              " 'd1e3e254-3098-4194-9cf0-558e8dc975a8.png',\n",
              " '4173858c-a114-4496-a324-94f45dd48826.png',\n",
              " 'a17aec0c-efa4-41e1-bb6d-3bd6029b099c.png',\n",
              " '89a3101e-6098-41d8-a5d5-61c67990b3e8.png',\n",
              " 'e53417fb-e45b-46da-8a40-1667981c7514.png',\n",
              " '27cb9b46-6a0d-4183-a64f-fe1362002b9b.png',\n",
              " 'ba3028bb-29d6-4438-be6e-8dc53ee8288c.png',\n",
              " 'fc64abea-d2f9-47d0-849d-aa572994b166.png',\n",
              " '11b8da48-75fa-40b4-99b7-f8d8a6d659d6.png',\n",
              " '464852fb-2be1-4205-a246-57fef7acd7ac.png',\n",
              " '9cb5faf9-e96b-4bdc-875c-61807624fadb.png',\n",
              " '44906f6b-0d9c-450f-b95f-fb4337a415fc.png',\n",
              " '31af4cfb-9333-456c-ac53-dc3b787eb825.png',\n",
              " '958e8f5e-918d-4ffd-8dc5-e48599397b3b.png',\n",
              " 'a4df67af-64c3-4258-8036-025da90b27cd.png',\n",
              " 'd1ab8c78-10e7-41df-8da5-fdc3b8fa3013.png',\n",
              " '4b7c0e63-919f-4c42-9b7f-3fe8e88b5699.png',\n",
              " '52b9b8e9-01b0-47e0-83d5-b28621aba636.png',\n",
              " 'a0fa5114-472c-4f67-b2b2-978879b87bfd.png',\n",
              " '8879ce55-2efb-445f-b3a5-5762c1db6d61.png',\n",
              " '0f510850-b219-46a8-9c1b-eae1e60d43a5.png',\n",
              " '77fcc194-31c1-4cf1-b702-0b1a5a5f0a55.png',\n",
              " '7c2b3abf-9399-4ec5-bd61-d1ea5667866b.png',\n",
              " '74d1a8a9-964b-442b-818c-4701e02f601f.png',\n",
              " '80c5a16b-3996-40ce-92c6-ed22933c0427.png',\n",
              " '761612fe-4b63-4dfd-8c37-3c04b6795299.png',\n",
              " '6320a368-e1d0-48a7-ae98-ce54f0d82bfe.png',\n",
              " 'd6f78b71-e657-472d-b55d-5e73ba4f14ba.png',\n",
              " '9bead503-c83c-4600-bb02-e51feebf7731.png',\n",
              " '709042bf-0dc5-4acf-99b4-07aaffdd5051.png',\n",
              " '066ab4e1-5ee9-4ca3-a8fc-ac7c1bad9956.png',\n",
              " '54bd302d-d0dc-46cf-95aa-0ff613e0b1d3.png',\n",
              " 'dc93aff9-0c7c-4a9a-8826-210aef161021.png',\n",
              " '21d5ab50-7e53-4f19-bf86-b9881bf8cfb3.png',\n",
              " '5491f176-06aa-41c0-9171-f77db5e19f7e.png',\n",
              " '0d14499e-6061-46cd-bcce-13f09d50bcad.png',\n",
              " '0b8b3217-9c92-4c92-8d2b-e491a22d7087.png',\n",
              " '76796905-7135-4bb1-b691-ffbd7059f74d.png',\n",
              " '36fe2f33-8cdb-476d-8065-cc6b75d3353b.png',\n",
              " '138830a1-f404-4718-b229-375cb8286e3a.png',\n",
              " 'd2c233fd-257d-4d69-b3dd-5fde54d4425d.png',\n",
              " 'bc5854cf-4f86-49db-b444-88f973cd51dd.png',\n",
              " '7934bbba-e3cc-49dc-905e-d71a79a7e5b7.png',\n",
              " '5b04fc70-6fc2-41b5-8656-3a01f92bc801.png',\n",
              " '933c758c-120e-4c13-828d-c97644f6593b.png',\n",
              " '0dee750c-eb42-47b3-bd73-83869d1caf5b.png',\n",
              " '7003a119-28f4-49db-a7df-1d4cd23302b7.png',\n",
              " '4097ab5d-e6d8-4acb-abbb-b85fc02efca5.png',\n",
              " '9e4bbf39-dc73-4049-9ecf-4b52ff48e489.png',\n",
              " '35fed57f-3b22-4c2b-84f5-cd236043a48a.png',\n",
              " 'f4457780-dd22-4a0c-9a6c-9b9ad67e1e5b.png',\n",
              " '683b3da4-3506-4179-b798-e366bbc9511e.png',\n",
              " '37858c67-0e1a-4e58-9abc-a2618ebe5c6b.png',\n",
              " '8d0a5d80-478f-413b-ad8f-83e24f7112b9.png',\n",
              " '8d5e1d3b-1db4-4cb9-9351-fc4d7c00e95f.png',\n",
              " '7c6ddc41-c737-48e0-80a5-ce5083cffb61.png',\n",
              " '584ed326-eb09-4ad0-98be-096d9425bddd.png',\n",
              " 'd2e9ffab-7287-40fb-87c7-39e0dd4edfc2.png',\n",
              " 'd91c75fe-01e0-4dd4-bb41-7c6593fde245.png',\n",
              " '7737ccdc-b4c0-402c-ba3e-6aac0b5e1f59.png',\n",
              " '74bef42a-1cd2-4065-b273-4e9ec8779a97.png',\n",
              " '5c0642f2-78e0-4e3a-b4c2-437a63bd6f84.png',\n",
              " '30580ea4-0b19-4471-93d2-484c0ae8118a.png',\n",
              " '1fe47dd4-f192-4a9b-a19d-7966c39f3e96.png',\n",
              " 'f45c0f5e-4b81-4c56-8c5f-6b56822e4090.png',\n",
              " '15314956-d033-4ade-9cff-3bbe71668a4c.png',\n",
              " 'c35d52f8-a648-42fe-97d5-f0e3ca182c09.png',\n",
              " '721a8985-fd5d-42c4-a51e-c78ba224072c.png',\n",
              " 'f4f34b41-e10e-4259-9d47-affdae15fd53.png',\n",
              " '491e7052-fa65-489b-835a-acf7492000c8.png',\n",
              " '82f94871-f8c8-4614-a629-1e164412ca1c.png',\n",
              " '6c423c4d-c13a-4e87-849b-7ef542a417a8.png',\n",
              " 'c85a0c10-c247-42cb-b83d-bc5c0346c1de.png',\n",
              " '733dbf4f-8134-4610-b455-ea9fd9562120.png',\n",
              " 'dbb7e3e1-3fcc-4a32-af0b-d2c91d557a96.png',\n",
              " '3f053ae2-402e-4b0d-ae1f-81a33d362f0f.png',\n",
              " '7046fe2f-17ce-45b4-894e-3ae701ff88d1.png',\n",
              " '3ad233e3-3047-4a9e-ae38-bf6d6de28bfb.png',\n",
              " '9f901156-85ed-40cd-bb10-c9259c259ecf.png',\n",
              " '80051235-f272-4641-9cb6-6bfc61f97e48.png',\n",
              " 'aae1e38f-98c3-4f30-bb57-62705c773e6b.png',\n",
              " 'a20b8537-362f-4e64-8507-f621149ec564.png',\n",
              " '458394e7-da61-4a67-bcc8-f94b1832cc5c.png',\n",
              " 'fa675533-1c4c-42d5-919b-b1cfb061c747.png',\n",
              " '2406dcfb-2b53-473c-9d20-a5e7373be33c.png',\n",
              " '56f9750c-5d2f-4060-8cb3-23d9acbbdd03.png',\n",
              " '13952c28-da93-48fd-b8f5-7ee6555ddd75.png',\n",
              " '09758690-aa34-4f1f-a8c3-853a0b4a40ac.png',\n",
              " 'fef3d9f3-c424-4258-8688-c1ba1fff1895.png',\n",
              " '59028db8-cf44-4e4c-985e-90fca90297a8.png',\n",
              " '920bebc2-b0f8-463a-8a89-2be71791a14e.png',\n",
              " '9c06ec9d-6819-4233-bc69-3c45f5056443.png',\n",
              " '024adc30-f713-4a13-a27b-74a9c6cdc08e.png',\n",
              " '751f98e2-feca-415f-87df-9f1b16c01dfa.png',\n",
              " '5132f14d-a89f-40fc-9357-3a0572774588.png',\n",
              " 'c05c919a-2773-4345-a100-cb8846fb21b9.png',\n",
              " '1113dc3c-95c9-44ea-b776-7791a5088b40.png',\n",
              " '8face30b-c604-41a2-80ef-10d489259161.png',\n",
              " '33ceca26-e381-4778-a24d-9035f8042bc4.png',\n",
              " 'e9325b14-c394-4989-9472-7b1f2f675bee.png',\n",
              " 'f8baec98-e06b-4c4d-bd26-82e6c4d49500.png',\n",
              " '93155220-65b5-4660-a56b-bde167074dbc.png',\n",
              " 'f0df33ca-59e7-4c0f-84d2-70c756c53e67.png',\n",
              " '9c466f49-a34e-43d7-8fb6-87aa86669a8b.png',\n",
              " '788c4935-d40f-4a66-8b08-e859ac6c14bd.png',\n",
              " '1299b95a-0445-4642-a36e-5b3ae9b5e851.png',\n",
              " '483b5c0a-1c3a-4011-9a39-d0a625f9cddd.png',\n",
              " 'f47717a4-c31a-4268-a8c2-98e5288417b2.png',\n",
              " 'c8c7cc48-9898-43a5-a796-53deda28b845.png',\n",
              " '3a502fb5-a792-441f-9098-b392fa5c1dbb.png',\n",
              " 'fdfdf2cf-b990-400d-ad83-d0d3329a2626.png',\n",
              " '14c5b6ad-3d22-4fb8-98de-e0a80c8a3394.png',\n",
              " '8ea58c5e-f93c-4c61-9bb8-e390764c6ec0.png',\n",
              " 'bf07eb77-64f8-4222-833c-2571cfeaf490.png',\n",
              " '73739424-de54-462b-a809-7d74999d09a7.png',\n",
              " '03db19ab-c8ee-41e9-b896-5882b4a5d729.png',\n",
              " 'b343fb7b-8a63-4176-b0cc-61ca878090c7.png',\n",
              " '1e6fc8a2-67f7-4fc9-8d8b-09da375b3e08.png',\n",
              " 'b1350ae3-0eed-4d11-819d-a30cf6531b84.png',\n",
              " '33521ef9-75d0-499e-be96-b1ffa1567a4a.png',\n",
              " 'e7be7ee9-ba87-4a60-8165-90edad4e5446.png',\n",
              " '8cba28dd-21f7-4443-a0c6-4013a8539530.png',\n",
              " '98f5c44e-86da-4bb0-b6cb-ec77f7844c28.png',\n",
              " 'a4db1b6a-622e-4f81-8cb5-3d8a0f9fb872.png',\n",
              " '620cc65d-c7d7-40f5-9c82-28af0e0dc323.png',\n",
              " '9355c07e-558d-4620-9816-0be7c55fd0ae.png',\n",
              " '52e445ad-c89c-463f-9cc3-b77d368be3f9.png',\n",
              " '9f49d624-f419-4742-9d0d-87913160e32d.png',\n",
              " '3ecc6122-bf18-4202-9504-7ce574ab7d28.png',\n",
              " '4bda8b7b-1b67-4870-80f3-9c76860e5ddb.png',\n",
              " '4ea46c1f-04b1-4b36-8de8-4ba1dac1ad94.png',\n",
              " 'cecc29ad-a450-416e-836a-b94cccdb1740.png',\n",
              " 'd9f6eadb-cfc6-400f-844c-113a48506cb1.png',\n",
              " '93b517cc-7b23-4845-bce6-0cc78a2b080d.png',\n",
              " '28e1e857-a08e-4021-8a39-91503cee1ea3.png',\n",
              " '7e16d391-1de2-476a-8a1d-d5594596832b.png',\n",
              " '4af4caf0-383d-49d6-9e1b-8da32693243a.png',\n",
              " 'a7722463-1fab-43e4-812b-f371befba306.png',\n",
              " '92ff829a-839a-476e-b5b1-f04a6cb1135d.png',\n",
              " 'e57dfbfb-8fb1-41f0-9263-d929960630c0.png',\n",
              " '4b94bb61-e665-4575-9d31-ac73bc9be28b.png',\n",
              " '824cc82d-d51e-44c8-b795-6ffb6dd04f58.png',\n",
              " '0103e554-bc4b-4ba2-a1d9-7c032fd67899.png',\n",
              " '311cd885-c3dd-4a9d-b84f-377340f4c575.png',\n",
              " '9404f226-d085-48dc-abc2-c1855ab7d1df.png',\n",
              " '6870b022-10f5-4658-9045-66e286440b99.png',\n",
              " '16bb7491-626a-4baf-927d-5025bad57532.png',\n",
              " 'a7d6d8ff-216d-4de6-91cd-eeb8cfbf2ad3.png',\n",
              " '8459969a-1e60-4bde-84d7-9245e0b554d6.png',\n",
              " '5bd2fe37-8507-4a2c-98b0-d0a485d5e03d.png',\n",
              " 'bc9ff53b-8745-47c9-8eb7-af43eb08cc80.png',\n",
              " '5803b748-74cb-49ce-a06a-b36ad7901855.png',\n",
              " '26d4cd4f-e12b-4afc-9d95-34af1fab2464.png',\n",
              " 'cf1875dc-8ab0-47e5-b320-32d13f7dfa37.png',\n",
              " '1ae71d26-e2bf-4503-9eb6-8273e4e7ff75.png',\n",
              " '8014a9dc-fa13-4085-85d1-b074f71f52ce.png',\n",
              " '24e07b72-fada-4d65-99f0-793facb28797.png',\n",
              " 'e9109311-d0a2-4c60-a6c8-54f00b5364b0.png',\n",
              " '556752cf-cbf6-4ee4-bd16-ee614040bbf2.png',\n",
              " '9fb607f7-0842-4e10-8d9d-24d81983343a.png',\n",
              " '6d18d7d1-9735-420d-9e90-ad6d4e9bd141.png',\n",
              " 'cf4bdcda-fb54-4910-8aac-baeee87e10de.png',\n",
              " '57978217-64c9-4fc6-bfa2-74db6b7bb260.png',\n",
              " '593bf09f-febe-42a2-aa2e-d319b136434c.png',\n",
              " '4bd7df68-614e-4a8e-92e8-bf34a6017972.png',\n",
              " '71336323-2520-4fd5-b7bf-7998bd3105a5.png',\n",
              " '947e6248-5347-4d8e-ac60-1e9d52c32346.png',\n",
              " 'a9e10a1f-d826-4707-9f2f-cb71be333f2b.png',\n",
              " '2a6d5578-5572-454b-a9df-3f6ff74c6d9e.png',\n",
              " '05053871-9b3f-4bbf-b465-c31d6de7b552.png',\n",
              " '6f005349-6b0a-4b26-ba89-1b59ca6af173.png',\n",
              " '229d5b74-2d04-477c-9f66-c39dd6573fad.png',\n",
              " 'dbe0225f-4353-4767-a116-b68c3ca211dd.png',\n",
              " '69cf68ff-fdb4-49e1-95e3-0d5b93978013.png',\n",
              " '104200a7-e373-4e50-abc8-962f6408fb72.png',\n",
              " '85c8c3ce-b949-4a69-bd8a-af0ca1dcc731.png',\n",
              " '87121cb1-bf10-4f55-b76d-bbc6cc12eea9.png',\n",
              " '32d6a83a-8ec4-4033-918c-bf3b250cb623.png',\n",
              " 'e9f282d3-59b0-4bf9-b315-08a0f50d2ddf.png',\n",
              " '5764bea8-cfb6-49bc-a6ba-2c9928fbc66d.png',\n",
              " '15614385-315d-46b5-a2db-bf979026a530.png',\n",
              " 'd6e7e5a1-55dd-4268-b862-2470b1df3065.png',\n",
              " 'ceba4d16-ad15-42fd-b16c-5e543355d5ec.png',\n",
              " '1894d4f7-2e62-4eb0-944c-143d23d8f770.png',\n",
              " '85f9547c-e0ea-446c-b463-f3810918a9a2.png',\n",
              " '950872ec-6e7a-4c28-b615-06ff121e334f.png',\n",
              " 'f0688ad3-b68f-4314-a779-8f7345db3dfa.png',\n",
              " '0fe772bd-642c-47e3-9df3-5cf6c00c1398.png',\n",
              " 'c96ba05c-522d-4bd6-a684-d76b49613b44.png',\n",
              " 'e844f730-a199-465d-8825-023668a0317e.png',\n",
              " '876de5c6-f405-44de-b2c0-e8e6bd7710a0.png',\n",
              " '5b3e6670-c9c0-422f-bf11-42366316d88f.png',\n",
              " 'd3055360-7dc8-4574-95ec-44e4da57579c.png',\n",
              " '909c490d-0b3d-4ff2-96d1-9b1cb7cc8449.png',\n",
              " '5be3299b-fb47-47a7-8054-adddae312b94.png',\n",
              " '1f7ec51a-2fae-474e-af2d-aebee045e1cc.png',\n",
              " 'f44cf086-b833-4ab3-b480-4ab4d74d5495.png',\n",
              " '0d41de2c-410f-461c-bd3f-a338444e74a5.png',\n",
              " 'c10379a8-4b04-4fc6-8838-96852ee0bda4.png',\n",
              " 'a3400fcb-d6f1-4ac1-81fe-7ebef16f7349.png',\n",
              " 'e9b4ac3d-3658-45b5-af6d-eb4ba73fdda4.png',\n",
              " '1757af2b-992c-4e04-952f-51336a415485.png',\n",
              " '8caa7f46-4bfd-454b-aace-0ce21b91dd93.png',\n",
              " 'bbc15804-867e-4439-abef-42a49a1595fa.png',\n",
              " '6eaa47fc-4176-4b0a-a626-fc0a94914580.png',\n",
              " 'cde988a0-d9ec-4061-b012-e0d363dd0b10.png',\n",
              " '03372af9-2714-4d9c-a278-dcd968c09503.png',\n",
              " '012b4c92-92bb-412c-98ba-7baba50247d1.png',\n",
              " 'be5611a5-2bbb-4c7c-9ea1-5daf26285c65.png',\n",
              " '73b92e95-ae78-4e1d-8104-dfb81426cf00.png',\n",
              " 'bee140a8-bfb9-4c67-8474-a1ffa0bb8bca.png',\n",
              " 'fd4c19cd-ce4f-429d-a554-a9b7cf4c2b9e.png',\n",
              " 'ea2d5e0e-6678-425a-928c-d94866444d4d.png',\n",
              " 'db95f377-1c56-4388-ad4c-f0b1729fee4b.png',\n",
              " '1b89f904-4796-4009-b437-edb4f0a8f0c3.png',\n",
              " '862177d7-7081-4fda-8229-797159d513ad.png',\n",
              " '8c14172e-2596-4c92-b29d-1a0156a73a89.png',\n",
              " 'eec88d4c-57fb-4040-b227-5fe113f433e3.png',\n",
              " '6159e24c-aef7-4b82-8b1a-a317821096f4.png',\n",
              " '59992bcf-f98f-4a46-9b87-7553ff9d73dd.png',\n",
              " '534b2272-94bc-40a3-a6b0-229e240a6cce.png',\n",
              " '457f060e-5e04-43d8-87c5-a6401210e097.png',\n",
              " '00b4fa90-873a-40d6-b308-8849b8ea6701.png',\n",
              " 'fcac5bf4-5e5b-4646-a91e-0da4ad72fd53.png',\n",
              " '93702311-759d-4579-9696-926b2f94159c.png',\n",
              " '04beb459-78bd-4efa-8d3d-81ad7a47218d.png',\n",
              " 'ac682ec7-d7da-4244-8ca7-eefca5deb316.png',\n",
              " '7b8589ac-8731-4a51-8fbb-2cf1960b0d87.png',\n",
              " '0844c68a-4c7c-49ce-a377-cb992d5da5fb.png',\n",
              " '2cc40557-c730-4831-83a9-dfa028cdceff.png',\n",
              " '9fc26f22-48d3-4768-97a0-37d9647111b2.png',\n",
              " 'b81f4483-1f50-4e3c-985b-87e7e071594e.png',\n",
              " '4c42d138-8802-4a1f-95e9-eb75f9c6f054.png',\n",
              " '81debf4d-a89b-47e7-b8c1-4deaccbeceaf.png',\n",
              " '51f198c0-8d19-4fcd-bbed-e555bb99c95f.png',\n",
              " '7a4d96fc-468c-463d-80a2-6e4581f05376.png',\n",
              " '746cf0ab-f713-49b6-acec-b0e4f6d60f4d.png',\n",
              " '509ded2a-31f6-406b-8967-f4c328ce918d.png',\n",
              " '02aba3f6-1f5f-4168-89ad-7837ce66f6a6.png',\n",
              " '3261bc54-f2bb-4ea2-871b-e5d93d1424d0.png',\n",
              " '2b5bcd73-0e87-45e6-88a3-1914b3b8a1d6.png',\n",
              " '19dca349-a8c9-4ff9-a604-fe3ae684bfa4.png',\n",
              " '7c786350-3326-41ce-9e4d-f2d1ed1eee70.png',\n",
              " '310e1e66-dc27-4e37-acf6-2eb2a0a8138d.png',\n",
              " '0ae34e1a-2f9d-4d27-a8cd-89cd6d7efc83.png',\n",
              " 'ccbd3883-9022-4e4e-b745-4d556124090f.png',\n",
              " '1a2896d3-7a27-427f-996a-9a63090153f9.png',\n",
              " '0768e553-d7ed-4cdd-a83d-079709340cf8.png',\n",
              " '0b7e740b-96ee-4851-94b0-8c6ca79d735c.png',\n",
              " '2af7c250-2fcd-4d82-8511-08051c46022f.png',\n",
              " '92884c6d-fd29-43ab-aea4-f15574624ff0.png',\n",
              " '68f13f87-1c78-4f4e-9df6-4463cab0d90b.png',\n",
              " '1f28430a-c837-4a2f-9ebb-3250436292b5.png',\n",
              " '522fdb0e-f62f-42db-9b3c-571c82c84a63.png',\n",
              " '03b33133-589b-467e-aa21-e44c2521e73a.png',\n",
              " '2e57ca22-e4ea-4668-b9b8-6831d3994be3.png',\n",
              " '3d644aee-fd29-4a1a-810e-6c990d9d4edf.png',\n",
              " 'a76043f4-1d2e-44ea-8bb3-96eefc3d83b2.png',\n",
              " 'c121f18c-79ed-460d-ab87-ffc8c8b756e9.png',\n",
              " '344933cc-53f0-493f-9e9e-a7574ac8f4db.png',\n",
              " '12eeb1e4-3bbb-48c7-b7dd-73d06a43f3c4.png',\n",
              " '7f92869c-b6dd-4caf-abbd-bba58536a607.png',\n",
              " 'bea096ff-5346-448b-834b-c6cff64a5d84.png',\n",
              " '29b1f9f2-3a06-48e8-b81d-e68e185ca034.png',\n",
              " 'f7692c1b-1a16-478c-a404-28acd6a89694.png',\n",
              " '4afba278-076c-46a6-8fdf-089f7a6ac4ba.png',\n",
              " 'edd41413-c238-4a5e-8ae6-73b45a4b76f5.png',\n",
              " '31d985fc-78c1-497a-9b9a-bbc1c60a7e0e.png',\n",
              " '4bdcedbf-3788-4e01-8ce2-05f0f205bc4b.png',\n",
              " 'b7b58bf7-357c-401c-8e16-cbda3cd4ebec.png',\n",
              " '85bb0419-913c-4496-b931-a73d74f086ff.png',\n",
              " '47474990-d7aa-4e65-8211-a26689f86b54.png',\n",
              " '819115ba-55e9-452b-a6e1-39d4549ff15e.png',\n",
              " 'b3d6d447-61d2-43ab-a855-16024d2e5e24.png',\n",
              " '48226b38-c6ca-4b64-b35c-800d3d21dadf.png',\n",
              " '71965d6b-2128-4752-afca-2846c30f90af.png',\n",
              " 'bbc62d08-a610-462d-8648-c814628b072d.png',\n",
              " 'bebfcac3-ef12-45c1-b208-42a400e4de5a.png',\n",
              " '0be13a21-ea2a-4cfc-a3a5-0cf4eb717b90.png',\n",
              " '5dd9a3ac-0075-42dc-8de4-02b0dc2ecd81.png',\n",
              " 'c0d91cd1-e6fd-4c0b-b0a9-836de777d268.png',\n",
              " '013c2931-abd1-4431-8f54-d7d365a8322a.png',\n",
              " '9ba58bb7-91ae-430b-aaf4-5cd0f5fc5ee6.png',\n",
              " '000d0b23-1159-48ee-a610-f70de4725d5a.png',\n",
              " '727f0d6c-0045-46c2-bb2c-d9852d7c5fea.png',\n",
              " '8162b72c-79cf-4caa-9550-a06c0f3bd90a.png',\n",
              " '6ae40eeb-d1cd-45d0-a479-267fe8eb384e.png',\n",
              " '3c2fea72-cf0e-4b3f-a0d5-834dc4a15424.png',\n",
              " '346a180e-921d-469c-915b-6a9837aed7ed.png',\n",
              " '140576cc-74b4-4a11-b0e0-bbc106533bf3.png',\n",
              " 'bfc17c2f-3674-4a2e-b16a-13f1601de449.png',\n",
              " 'b14f95ad-fa81-42b8-88dd-d25389403ec9.png',\n",
              " 'f6b56f5f-908a-4c41-be08-cb61c41e0bc2.png',\n",
              " 'e6378808-d197-49e3-b651-0b47ba157ec1.png',\n",
              " 'f7dc4fb9-dbad-4ea1-a21b-a85598428846.png',\n",
              " '1869d9c4-bffe-4122-9a86-aef727c6d4b5.png',\n",
              " '586b5f47-e278-491f-b0e4-de983522acc6.png',\n",
              " '262a72ba-2d56-44d9-a8f4-9a82224740ce.png',\n",
              " '8498d65b-68db-410a-ac31-a087ff70df41.png',\n",
              " '3a5a94c3-20c3-464b-97a4-216030c60d6a.png',\n",
              " '8aff54de-8f32-4a4c-b1ec-e4360e894689.png',\n",
              " 'bb54020d-d764-4ed2-8a44-5d06aa1ddced.png',\n",
              " '9e19d422-4d5b-42ab-b728-cdb2ae06b4bd.png',\n",
              " '0235abf9-4abf-47a1-9018-861c8c7bec04.png',\n",
              " '0248e503-8976-4eb5-b245-3883b5715500.png',\n",
              " '3531ac8b-3499-424b-94fe-2aa65dbb554d.png',\n",
              " 'ada9b225-0746-4bc9-8720-9baeacfe960c.png',\n",
              " 'c9f1616a-55db-431d-95a8-17690d40e03b.png',\n",
              " 'dff5f446-a6cb-48d1-9617-f6143024ba3e.png',\n",
              " '3673f978-814f-4f57-99a1-4a79a8333450.png',\n",
              " 'a8feddd3-7527-43c6-a481-50d4fc664391.png',\n",
              " '3af66cec-627f-4b4b-b9fe-ddd2168ba67e.png',\n",
              " '0f48958d-a976-4eb2-beb2-3b90c4638d6e.png',\n",
              " 'd52dda8c-c374-4d3d-91d2-b8ab1f056534.png',\n",
              " '873aece1-524d-4ef0-8a37-fc6e6bed2db7.png',\n",
              " '17c576f7-4a32-4f0f-8951-a504a45f9bd3.png',\n",
              " '12dcb1fc-7c10-4dc0-b3ec-c07c9d8b97ff.png',\n",
              " 'c6435861-ec06-4369-88bc-12b7627ecc41.png',\n",
              " '054afe9c-8b6f-42f8-8a51-2c5c05584cce.png',\n",
              " '00bbb6c1-e185-4999-b1b2-27874ee6f736.png',\n",
              " 'c9b90b81-164d-43d9-b660-8234d98ff66e.png',\n",
              " '6324f62d-cfd1-4319-91f9-73a90a5c0853.png',\n",
              " '7891803d-f62b-4c27-b29e-921af17eb2d8.png',\n",
              " '95cc1df1-9a53-4767-b58c-eba7dcc4c0f8.png',\n",
              " '8d68345c-028f-413b-9137-7ffe30e9b6f8.png',\n",
              " 'd7d4ea93-7c00-4ce9-9611-5002c49d3754.png',\n",
              " '44a8a69f-9c78-4519-8cbf-a07dc219d924.png',\n",
              " 'e5e0ba2a-5603-4f0b-88fb-b82c858bff6f.png',\n",
              " 'e2dd2d16-918a-4472-9fba-ce4ae9334fc0.png',\n",
              " 'cb0ed0ea-afec-4866-9d61-fd8bdbf876dd.png',\n",
              " 'ba6363d8-7197-40fa-a029-e564c9a5532d.png',\n",
              " '237b37ef-38a5-4e25-9087-b31a5a813344.png',\n",
              " '934e2ebd-fda2-4bb4-9a82-c03866915a93.png',\n",
              " '1fbd8283-15d8-49a8-a38e-78779b58e65f.png',\n",
              " 'c64bca8a-a430-437c-b7db-66539e257abf.png',\n",
              " '628ebfe2-cc99-4d9f-b489-95ceb7f39c8f.png',\n",
              " 'fb60c999-f2b8-42fc-92b4-620e25f2e593.png',\n",
              " '173e98e7-d440-42cd-9687-9e77cf140384.png',\n",
              " '8a1684d6-111b-4fb1-ae76-238eec9837d5.png',\n",
              " '30ac6bcc-ed58-43b7-867b-d64792c15108.png',\n",
              " 'e11a56a3-82ea-4d4d-b294-7668ae5c8e21.png',\n",
              " '1d67ed29-18bd-4bb1-9f2d-0376c66d9d95.png',\n",
              " 'dc6f018e-821f-44ff-9ea1-16aa55ea8813.png',\n",
              " '736c4a65-8e9a-4ca8-898b-c55a68981243.png',\n",
              " 'b21279ed-04e4-4f74-9d55-7d69ea23a99d.png',\n",
              " '556c4551-b0bb-4f87-8ffe-fa78a8fa093e.png',\n",
              " 'cc109726-f6af-440e-be1f-29b2b2a8ab62.png',\n",
              " '1631559b-6b6d-450a-ae95-c5344d1e69f1.png',\n",
              " 'bcde9266-09bc-4f24-b3ba-a2e517f95118.png',\n",
              " 'dddab098-9bed-4d90-93fa-3d493779a6b0.png',\n",
              " '0e9e783a-304f-4519-b157-9c061d8cfd44.png',\n",
              " '2647da13-6fd9-4179-912d-69288add2236.png',\n",
              " '212ac50b-54d1-4de1-ae14-0f496e6ba1f9.png',\n",
              " '6728814e-2543-4534-9e65-2e39e554864f.png',\n",
              " 'b73cd671-363b-41b9-b67e-f3617e6f81a4.png',\n",
              " '626d9a83-4b9e-48e6-84bc-dab429061e10.png',\n",
              " 'b027961a-dfaf-492f-8717-0e11e42cb2ee.png',\n",
              " '4c2516c8-9b04-4456-bd65-2b4728b88879.png',\n",
              " '276cbbed-7da9-468c-99e4-5a3f6d471746.png',\n",
              " '2d6e3dba-cc25-4245-b277-d04d4f91f55c.png',\n",
              " 'd6427154-7dce-4b08-b29c-c4de527c2632.png',\n",
              " 'df037dab-4d65-4c2d-8c5e-8af73cf59fe3.png',\n",
              " 'd85fb696-486d-4905-bf29-969bd6738432.png',\n",
              " '97a54392-f14e-462e-bf21-70be34342474.png',\n",
              " 'af43a1a4-7177-4cc0-8e7d-3a7985867f95.png',\n",
              " '044d1d30-709f-433e-ba9f-d1f317c5e1df.png',\n",
              " '5c35b55d-28ee-417c-8758-b8aa525aa42e.png',\n",
              " '728876a1-9d5c-4b77-bc0c-a9a7257ef357.png',\n",
              " '7d9cc4a9-7edb-450b-a08b-8c03cb116a87.png',\n",
              " '09b7cf75-4cbb-48a3-8fd9-6c1af271d5fa.png',\n",
              " 'f6c6fd91-f4c6-48af-b6f1-14a0178ca57c.png',\n",
              " 'a704e475-593b-4145-aed6-d763715e9520.png',\n",
              " '6f93829c-ea54-40dc-853a-fde56ceca7d1.png',\n",
              " '7b8c3d75-4c3c-471b-96c7-a154ca5235a6.png',\n",
              " 'c05d94fc-f151-4c16-971b-6ff981d40bfc.png',\n",
              " '701475e6-6cde-4314-8263-19c4914d5339.png',\n",
              " 'ec893bbb-e683-4404-b519-f53a7e451212.png',\n",
              " '1ef0df24-f05f-48ab-aa9f-ceffd31d91c1.png',\n",
              " 'f3e6261d-22d0-4dd3-b186-cb9485c1d7c8.png',\n",
              " 'f01ea06e-b030-47e3-b4fc-44e6489e6e67.png',\n",
              " 'a3578728-feb3-410f-99b6-d1427215211d.png',\n",
              " '2283faa1-85f1-4d6b-ab24-d514b7c83cee.png',\n",
              " 'cb770f50-9286-4bb1-9a50-c43a698bad29.png',\n",
              " '7e45b832-9497-4208-8156-c45121272569.png',\n",
              " '0e10b273-aacf-4ba5-a746-d59816d6b0ea.png',\n",
              " '68a4ec0c-dc08-4002-a970-24e6a3fd416d.png',\n",
              " 'e8ccf683-0b50-44b8-8c97-d449b9573611.png',\n",
              " '29fbfd03-deb5-48e1-9543-492111567eb2.png',\n",
              " '519695d6-50d0-4773-823d-dd5353049e1e.png',\n",
              " 'a1cc9047-9473-446b-82c3-588a131a08d3.png',\n",
              " 'c78cb9cf-473f-4412-924e-d068c11d7c50.png',\n",
              " 'e6cca7a2-42ca-4ad0-92e2-e74b140ec666.png',\n",
              " '78310915-a98f-44d7-ac57-adb9214bc8dc.png',\n",
              " '23b836b7-7350-465d-9de2-b974ac16f244.png',\n",
              " '8ba3d641-e5a5-49f8-81ff-e903049c3c95.png',\n",
              " 'e07ed137-ff46-4347-b629-b21fe82598c7.png',\n",
              " 'e2fb9533-2fee-4075-adfd-9290dffa1d23.png',\n",
              " 'e7e91e19-be90-4dca-8b30-bf7f8919d674.png',\n",
              " '675af66c-fb43-4892-a41c-a2c1744454f2.png',\n",
              " '4cc8fa98-c0b2-40f5-956a-fdc1900a4678.png',\n",
              " 'f9bc5064-f878-4751-8171-9adde1caa405.png',\n",
              " '1deed866-85b4-44b2-a1d0-61a3190d0b03.png',\n",
              " 'f5a4099c-a44c-4c92-aa6e-362b4a2f29e8.png',\n",
              " '22f32d9f-b0fa-46ba-adc5-c96e89b708dc.png',\n",
              " 'd699c834-589c-4726-aad7-eabdc0ba68e1.png',\n",
              " '2bde2658-34e2-4f01-86f7-2b0e5866fc91.png',\n",
              " '0f713f4e-a705-4df5-84de-c086032b5457.png',\n",
              " '177ddb5e-0289-4437-aa48-a0571b86269a.png',\n",
              " '1385fdd0-82b2-4ffe-bc78-cd527676a1aa.png',\n",
              " '2dc7d86c-5e2f-461f-8c46-112434f8509e.png',\n",
              " '9f5c27fc-ee51-4b58-94d5-31172c59a330.png',\n",
              " '5a684461-5654-4957-917e-8a8be3a3a4be.png',\n",
              " '62b2b024-c84b-415a-a441-3b700986881d.png',\n",
              " '3304e15b-0982-4d51-bb2b-2080bcbce576.png',\n",
              " 'a8a92808-f19b-4441-ad57-f0f47dc71834.png',\n",
              " 'e11b855b-5d8f-45f6-9fba-5fe2ba664d69.png',\n",
              " '85ebc3b6-5a58-4ee8-b44d-037df2d6c8b0.png',\n",
              " '5dbb3206-1211-4940-9e2d-3f7d1a8d223f.png',\n",
              " '47adb699-fada-44a7-bb0c-6aefaa52f70e.png',\n",
              " 'fe704aef-d1c2-4068-b3af-290bba170b0d.png',\n",
              " '8932b8ec-d11c-4164-8838-b76e436c0580.png',\n",
              " '129ba976-b038-4169-9ec9-3b527e5e3e93.png',\n",
              " '6ae5b53e-4cba-41ed-9fc1-143bfb3ff736.png',\n",
              " 'b2add04a-3222-4f7e-98ff-6d375bb44a84.png',\n",
              " 'c7dea847-6c2a-497c-a732-ed6074a392e2.png',\n",
              " '74dfd63c-00d8-4f56-8bf2-5b32763fcb3e.png',\n",
              " '51a6ae71-6961-41d9-99f8-acb3d358e82a.png',\n",
              " 'dd7e4e79-04a1-4d99-950a-2ec778ad73b6.png',\n",
              " '8ee1fff2-5b13-4914-9b96-52506eb6cf66.png',\n",
              " '87df5d61-7bc8-4499-9dd2-80f2e6a17ae3.png',\n",
              " '5ce4c7c3-ad4f-4bf7-bb68-0a0d1b0e2cb8.png',\n",
              " '9c840591-2ce6-42bb-9fbf-c6e3570654ce.png',\n",
              " 'b2b88779-b912-4a0d-a979-66830c35f350.png',\n",
              " '13c4ec76-e309-4609-82f0-075c2c1ff825.png',\n",
              " '699b0c04-6d2a-4ebe-a356-c0ac3359f66c.png',\n",
              " 'fbc10d77-f199-4431-8e11-f58bd99beb29.png',\n",
              " '0ff3cce0-6491-4142-924d-5fd986bf11d8.png',\n",
              " '60c41970-09ee-45cc-88bc-87f7c40620d3.png',\n",
              " '3437a458-279b-49ed-8822-20f8bf16330b.png',\n",
              " '97e17b5e-f91e-42b3-8c3d-f7bc0fa3de3b.png',\n",
              " 'ca6a305d-67b5-478b-b5a4-1124e7bc639e.png',\n",
              " '04026385-56fc-4d48-983d-c0cc310f4af0.png',\n",
              " 'a34773c4-8b90-4297-87b6-ecbf711dcfb7.png',\n",
              " 'fd4376d2-bc39-49df-a39a-9105da62c671.png',\n",
              " '307dcfa5-f34d-48db-9dff-a55638e617f9.png',\n",
              " '34af74f8-b2dc-4412-98f6-09a193afb493.png',\n",
              " 'e63d55ec-ca97-4cae-9e45-3e28c2911e26.png',\n",
              " '5e8f827d-f709-46c3-8d28-10d93067691b.png',\n",
              " '02eaa73f-cbcc-4149-bba5-6bbd23329674.png',\n",
              " '8f947e8e-a9d9-4fbf-9a32-337a79b7901e.png',\n",
              " 'fd05d63e-0700-46fd-9bbc-d98e3e2862c8.png',\n",
              " '33cc0649-29c4-4dad-a4a5-7d1aa222a1d7.png',\n",
              " 'f745954a-1325-471d-bd52-9a28327ddff0.png',\n",
              " '817934e6-55f1-4660-9ebd-49c18b1d8cc1.png',\n",
              " '785adc25-2fd0-47fb-b3fa-28ba84b23a2e.png',\n",
              " '819b88f0-90e4-4326-bb17-6ef8eb9021f1.png',\n",
              " '2ecfed89-d82b-4ebd-980b-0866e4c6f222.png',\n",
              " 'a26b7ff9-32db-4654-8701-853d79dfff24.png',\n",
              " '2ef04802-47c5-44c1-969c-3afdcf8261b9.png',\n",
              " '2b4fb6c5-da09-453a-8843-c6b1c9dc513f.png',\n",
              " 'c6969fc1-5723-4804-a146-46b1e5bc7c45.png',\n",
              " 'e9238dba-1f15-4e37-a2c3-73f64734834a.png',\n",
              " '89c90c0d-b24e-415d-a0b0-69cd364f5339.png',\n",
              " 'dc9b6c4f-14ac-4805-ad01-d8a917f64f9a.png',\n",
              " '24e52999-c931-44fa-9a82-6e171f9b774f.png',\n",
              " '8526639f-13ed-4b8c-91b7-c5929a488cb8.png',\n",
              " '0eda97f8-73ce-4b37-b3fc-2913ee6dc357.png',\n",
              " '7b558467-adb6-4bdc-b5c4-b5af7954bc62.png',\n",
              " 'bad96a3e-0ceb-42c1-8b2a-7a3774a479be.png',\n",
              " 'd5dd6713-359d-4f6d-bcc7-f3b0da12111f.png',\n",
              " 'a88b210a-d4be-4915-8cef-37b39345045e.png',\n",
              " '00e0c9dc-cc08-4bb7-aeef-67eb1929191f.png',\n",
              " 'd9986a7c-946b-4076-8a83-3c4463467916.png',\n",
              " 'edc2d4bd-db17-4be0-b714-bdded900d52b.png',\n",
              " '61a56b9a-b83d-49f0-9d1f-7a486463110c.png',\n",
              " 'f5d28256-2b83-4e9d-85f9-25e481591f1d.png',\n",
              " 'cca15598-450e-4bc9-97f6-b9f5e34b6b15.png',\n",
              " 'fc7e8b49-debe-4358-af36-ef4134805165.png',\n",
              " 'a98d219b-b3d0-4ee3-9fb6-be55e4832c51.png',\n",
              " 'f86652e6-a489-496a-b504-6e22a70d0cee.png',\n",
              " 'ba8d0ba7-d6c8-4b37-8496-c499d4a99751.png',\n",
              " ...]"
            ]
          },
          "metadata": {
            "tags": []
          },
          "execution_count": 19
        }
      ]
    },
    {
      "cell_type": "code",
      "metadata": {
        "colab": {
          "base_uri": "https://localhost:8080/",
          "height": 35
        },
        "id": "O1NBmXtL5rBL",
        "outputId": "294672d1-bdfc-49aa-cdd0-3d04cd44e103"
      },
      "source": [
        "df_true['filename'].iloc[0]"
      ],
      "execution_count": null,
      "outputs": [
        {
          "output_type": "execute_result",
          "data": {
            "application/vnd.google.colaboratory.intrinsic+json": {
              "type": "string"
            },
            "text/plain": [
              "'8790e76c-f485-49a6-abaf-3147436ca085'"
            ]
          },
          "metadata": {
            "tags": []
          },
          "execution_count": 20
        }
      ]
    },
    {
      "cell_type": "code",
      "metadata": {
        "id": "fUcdjWwj5YTW"
      },
      "source": [
        "import shutil"
      ],
      "execution_count": null,
      "outputs": []
    },
    {
      "cell_type": "code",
      "metadata": {
        "id": "Qr5THZDL5jy4"
      },
      "source": [
        "for i in range(len(df_true)):\n",
        "  shutil.copy('/content/avia-train/{}.png'.format(df_true['filename'].iloc[i]), '/content/train_data_for_avia/1')"
      ],
      "execution_count": null,
      "outputs": []
    },
    {
      "cell_type": "code",
      "metadata": {
        "colab": {
          "base_uri": "https://localhost:8080/"
        },
        "id": "PxyXHzKH8oP0",
        "outputId": "ab88d960-857e-40c3-8df0-9bb7e24cea55"
      },
      "source": [
        "len(os.listdir('/content/train_data_for_avia/1'))"
      ],
      "execution_count": null,
      "outputs": [
        {
          "output_type": "execute_result",
          "data": {
            "text/plain": [
              "7899"
            ]
          },
          "metadata": {
            "tags": []
          },
          "execution_count": 23
        }
      ]
    },
    {
      "cell_type": "code",
      "metadata": {
        "id": "BXfJxEIx9u0p"
      },
      "source": [
        "for i in range(len(df_false)):\n",
        "  shutil.copy('/content/avia-train/{}.png'.format(df_false['filename'].iloc[i]), '/content/train_data_for_avia/0')"
      ],
      "execution_count": null,
      "outputs": []
    },
    {
      "cell_type": "code",
      "metadata": {
        "colab": {
          "base_uri": "https://localhost:8080/"
        },
        "id": "z8v87dTM-Eej",
        "outputId": "b1003267-829f-4c66-9e76-5263e632de31"
      },
      "source": [
        "len(os.listdir('/content/train_data_for_avia/0'))"
      ],
      "execution_count": null,
      "outputs": [
        {
          "output_type": "execute_result",
          "data": {
            "text/plain": [
              "23181"
            ]
          },
          "metadata": {
            "tags": []
          },
          "execution_count": 25
        }
      ]
    },
    {
      "cell_type": "markdown",
      "metadata": {
        "id": "nX9s1Z5aZyZc"
      },
      "source": [
        "разделение на обучающий и валидационный датасеты"
      ]
    },
    {
      "cell_type": "code",
      "metadata": {
        "id": "ukkC0xsBZ8i8"
      },
      "source": [
        "from tqdm import tqdm"
      ],
      "execution_count": null,
      "outputs": []
    },
    {
      "cell_type": "code",
      "metadata": {
        "id": "0g3s1I0kZ-Og"
      },
      "source": [
        "train_dir = 'train'\n",
        "val_dir = 'val'"
      ],
      "execution_count": null,
      "outputs": []
    },
    {
      "cell_type": "code",
      "metadata": {
        "id": "AbKV0CzEaGgo"
      },
      "source": [
        "class_names = ['1', '0']"
      ],
      "execution_count": null,
      "outputs": []
    },
    {
      "cell_type": "code",
      "metadata": {
        "id": "2UcMhQobbLCp"
      },
      "source": [
        "data_root = '/content/train_data_for_avia'"
      ],
      "execution_count": null,
      "outputs": []
    },
    {
      "cell_type": "code",
      "metadata": {
        "id": "g2G--bXZaPM9"
      },
      "source": [
        "for dir_name in [train_dir, val_dir]:\n",
        "    for class_name in class_names:\n",
        "        os.makedirs(os.path.join(dir_name, class_name), exist_ok=True)"
      ],
      "execution_count": null,
      "outputs": []
    },
    {
      "cell_type": "code",
      "metadata": {
        "colab": {
          "base_uri": "https://localhost:8080/"
        },
        "id": "FKtiflgaanec",
        "outputId": "f32a25eb-2c55-4a13-9534-6442dc9ddf3d"
      },
      "source": [
        "for class_name in class_names:\n",
        "    source_dir = os.path.join(data_root, class_name)\n",
        "    for i, file_name in enumerate(tqdm(os.listdir(source_dir))):\n",
        "        if i % 6 != 0:\n",
        "            dest_dir = os.path.join(train_dir, class_name) \n",
        "        else:\n",
        "            dest_dir = os.path.join(val_dir, class_name)\n",
        "        shutil.copy(os.path.join(source_dir, file_name), os.path.join(dest_dir, file_name))"
      ],
      "execution_count": null,
      "outputs": [
        {
          "output_type": "stream",
          "text": [
            "100%|██████████| 7899/7899 [00:01<00:00, 6674.27it/s]\n",
            "100%|██████████| 23181/23181 [00:02<00:00, 8781.78it/s]\n"
          ],
          "name": "stderr"
        }
      ]
    },
    {
      "cell_type": "markdown",
      "metadata": {
        "id": "s1_Dbxoa-WKf"
      },
      "source": [
        "обработка изображений"
      ]
    },
    {
      "cell_type": "code",
      "metadata": {
        "id": "2GmQfI0p-h32"
      },
      "source": [
        "import torchvision\n",
        "from torchvision import transforms"
      ],
      "execution_count": null,
      "outputs": []
    },
    {
      "cell_type": "code",
      "metadata": {
        "id": "mnd33MWX-xRE"
      },
      "source": [
        "train_data_path = '/content/train_data_for_avia'"
      ],
      "execution_count": null,
      "outputs": []
    },
    {
      "cell_type": "code",
      "metadata": {
        "id": "NHCcwW0C-30V"
      },
      "source": [
        "train_transform = transforms.Compose([\n",
        "                                transforms.Resize(224), \n",
        "                                transforms.ToTensor(), \n",
        "                                transforms.Normalize(mean=[0.485, 0.456, 0.406], \n",
        "                                                     std=[0.229, 0.224, 0.225])\n",
        "])"
      ],
      "execution_count": null,
      "outputs": []
    },
    {
      "cell_type": "code",
      "metadata": {
        "id": "4W0e37vAZjU4"
      },
      "source": [
        "val_transform = transforms.Compose([\n",
        "    transforms.Resize((224, 224)),\n",
        "    transforms.ToTensor(),\n",
        "    transforms.Normalize([0.485, 0.456, 0.406], [0.229, 0.224, 0.225])\n",
        "])"
      ],
      "execution_count": null,
      "outputs": []
    },
    {
      "cell_type": "code",
      "metadata": {
        "id": "k85NLs-1AWSE"
      },
      "source": [
        "train_dataset = torchvision.datasets.ImageFolder(train_dir, train_transform)\n",
        "val_dataset = torchvision.datasets.ImageFolder(val_dir, val_transform)"
      ],
      "execution_count": null,
      "outputs": []
    },
    {
      "cell_type": "code",
      "metadata": {
        "id": "8cUKXxnKcJw1"
      },
      "source": [
        "import torch"
      ],
      "execution_count": null,
      "outputs": []
    },
    {
      "cell_type": "code",
      "metadata": {
        "id": "ZeE0kSThBeqL"
      },
      "source": [
        "from torch import utils"
      ],
      "execution_count": null,
      "outputs": []
    },
    {
      "cell_type": "code",
      "metadata": {
        "colab": {
          "base_uri": "https://localhost:8080/"
        },
        "id": "xxkpspjvPtR9",
        "outputId": "8ed26530-d9c2-4ed4-b4c1-34282a0f5c07"
      },
      "source": [
        "batch_size = 32\n",
        "train_dataloader = torch.utils.data.DataLoader(\n",
        "    train_dataset, batch_size=batch_size, shuffle=True, num_workers=batch_size)\n",
        "val_dataloader = torch.utils.data.DataLoader(\n",
        "    val_dataset, batch_size=batch_size, shuffle=False, num_workers=batch_size)"
      ],
      "execution_count": null,
      "outputs": [
        {
          "output_type": "stream",
          "text": [
            "/usr/local/lib/python3.7/dist-packages/torch/utils/data/dataloader.py:481: UserWarning: This DataLoader will create 32 worker processes in total. Our suggested max number of worker in current system is 2, which is smaller than what this DataLoader is going to create. Please be aware that excessive worker creation might get DataLoader running slow or even freeze, lower the worker number to avoid potential slowness/freeze if necessary.\n",
            "  cpuset_checked))\n"
          ],
          "name": "stderr"
        }
      ]
    },
    {
      "cell_type": "code",
      "metadata": {
        "id": "nR8iZSwnc0lC"
      },
      "source": [
        "import matplotlib.pyplot as plt"
      ],
      "execution_count": null,
      "outputs": []
    },
    {
      "cell_type": "markdown",
      "metadata": {
        "id": "Sb_IUPwFQ1mT"
      },
      "source": [
        "Загрузка и обработка тестовых изображений"
      ]
    },
    {
      "cell_type": "code",
      "metadata": {
        "id": "ppxIe242Q--_"
      },
      "source": [
        "#with zipfile.ZipFile('/content/avia-test.zip', 'r') as zip_obj:\n",
        " #  # Extract all the contents of zip file in current directory\n",
        " #  zip_obj.extractall('/content')"
      ],
      "execution_count": null,
      "outputs": []
    },
    {
      "cell_type": "code",
      "metadata": {
        "id": "7m5R8u1wR5y9"
      },
      "source": [
        "#test_data_path = '/content/avia-test'"
      ],
      "execution_count": null,
      "outputs": []
    },
    {
      "cell_type": "code",
      "metadata": {
        "id": "y9zNBmpwSUBc"
      },
      "source": [
        "#test_dataset = torchvision.datasets.ImageFolder(root=test_data_path, transform=transform)"
      ],
      "execution_count": null,
      "outputs": []
    },
    {
      "cell_type": "markdown",
      "metadata": {
        "id": "ySGuQ_NHYN5b"
      },
      "source": [
        "Разработка нейронной сети"
      ]
    },
    {
      "cell_type": "code",
      "metadata": {
        "id": "7LB2IbdRUi6s"
      },
      "source": [
        "import numpy as np\n",
        "import random"
      ],
      "execution_count": null,
      "outputs": []
    },
    {
      "cell_type": "code",
      "metadata": {
        "id": "TFJsoKdcUhOn"
      },
      "source": [
        "random.seed(0)\n",
        "np.random.seed(0)\n",
        "torch.manual_seed(0)\n",
        "torch.cuda.manual_seed(0)\n",
        "torch.backends.cudnn.determinictic = True"
      ],
      "execution_count": null,
      "outputs": []
    },
    {
      "cell_type": "code",
      "metadata": {
        "id": "24szjSyMYTwa"
      },
      "source": [
        "import torchvision.models as models"
      ],
      "execution_count": null,
      "outputs": []
    },
    {
      "cell_type": "code",
      "metadata": {
        "id": "4S6n5ZkNayBB"
      },
      "source": [
        "#model = models.resnet18(pretrained=True)"
      ],
      "execution_count": null,
      "outputs": []
    },
    {
      "cell_type": "code",
      "metadata": {
        "id": "Ipy5_IRBPsM8"
      },
      "source": [
        "model = models.resnet50(pretrained=True)"
      ],
      "execution_count": null,
      "outputs": []
    },
    {
      "cell_type": "code",
      "metadata": {
        "id": "SURC9jnnbq9Y"
      },
      "source": [
        "for name, param in model.named_parameters():\n",
        "  if 'bn' not in name:\n",
        "      param.requires_grad = False"
      ],
      "execution_count": null,
      "outputs": []
    },
    {
      "cell_type": "code",
      "metadata": {
        "id": "cZetdQc4OE4y"
      },
      "source": [
        "from torch import nn"
      ],
      "execution_count": null,
      "outputs": []
    },
    {
      "cell_type": "code",
      "metadata": {
        "id": "4PI6ppgIQI3Z"
      },
      "source": [
        "model.fc = nn.Linear(model.fc.in_features,2)"
      ],
      "execution_count": null,
      "outputs": []
    },
    {
      "cell_type": "code",
      "metadata": {
        "id": "t3J1VNIBG9V3"
      },
      "source": [
        "#model.fc =  nn.Sequential(nn.Linear(model.fc.in_features,500), nn.ReLU(),nn.Dropout(), nn.Linear(500,2))"
      ],
      "execution_count": null,
      "outputs": []
    },
    {
      "cell_type": "code",
      "metadata": {
        "id": "G2B8PQPOPWcA"
      },
      "source": [
        "loss = torch.nn.CrossEntropyLoss()\n",
        "optimizer = torch.optim.Adam(model.parameters(), lr=1.0e-3)"
      ],
      "execution_count": null,
      "outputs": []
    },
    {
      "cell_type": "code",
      "metadata": {
        "id": "i6Z16hzSdd68"
      },
      "source": [
        "def train_model(model, loss, optimizer, scheduler, num_epochs):\n",
        "    for epoch in range(num_epochs):\n",
        "        print('Epoch {}/{}:'.format(epoch, num_epochs - 1), flush=True)\n",
        "\n",
        "        # Each epoch has a training and validation phase\n",
        "        for phase in ['train', 'val']:\n",
        "            if phase == 'train':\n",
        "                dataloader = train_dataloader\n",
        "                scheduler.step()\n",
        "                model.train()  # Set model to training mode\n",
        "            else:\n",
        "                dataloader = val_dataloader\n",
        "                model.eval()   # Set model to evaluate mode\n",
        "\n",
        "            running_loss = 0.\n",
        "            running_acc = 0.\n",
        "\n",
        "            # Iterate over data.\n",
        "            for inputs, labels in tqdm(dataloader):\n",
        "                inputs = inputs.to(device)\n",
        "                labels = labels.to(device)\n",
        "\n",
        "                optimizer.zero_grad()\n",
        "\n",
        "                # forward and backward\n",
        "                with torch.set_grad_enabled(phase == 'train'):\n",
        "                    preds = model(inputs)\n",
        "                    loss_value = loss(preds, labels)\n",
        "                    preds_class = preds.argmax(dim=1)\n",
        "\n",
        "                    # backward + optimize only if in training phase\n",
        "                    if phase == 'train':\n",
        "                        loss_value.backward()\n",
        "                        optimizer.step()\n",
        "\n",
        "                # statistics\n",
        "                running_loss += loss_value.item()\n",
        "                running_acc += (preds_class == labels.data).float().mean()\n",
        "\n",
        "            epoch_loss = running_loss / len(dataloader)\n",
        "            epoch_acc = running_acc / len(dataloader)\n",
        "\n",
        "            print('{} Loss: {:.4f} Acc: {:.4f}'.format(phase, epoch_loss, epoch_acc), flush=True)\n",
        "\n",
        "    return model"
      ],
      "execution_count": null,
      "outputs": []
    },
    {
      "cell_type": "code",
      "metadata": {
        "id": "Mc0UhKzld2iH"
      },
      "source": [
        "device = torch.device(\"cuda:0\" if torch.cuda.is_available() else \"cpu\")"
      ],
      "execution_count": null,
      "outputs": []
    },
    {
      "cell_type": "code",
      "metadata": {
        "id": "6e6MThr7d90o"
      },
      "source": [
        "model = model.to(device)"
      ],
      "execution_count": null,
      "outputs": []
    },
    {
      "cell_type": "code",
      "metadata": {
        "id": "rTJB9E2peFW5"
      },
      "source": [
        "scheduler = torch.optim.lr_scheduler.StepLR(optimizer, step_size=7, gamma=0.1)"
      ],
      "execution_count": null,
      "outputs": []
    },
    {
      "cell_type": "code",
      "metadata": {
        "colab": {
          "base_uri": "https://localhost:8080/",
          "height": 162
        },
        "id": "lbW3qJSuee_j",
        "outputId": "b0a24c69-9c49-43ce-f521-9d0a1699d5dd"
      },
      "source": [
        "train_model(model, loss, optimizer, scheduler, num_epochs=2)"
      ],
      "execution_count": null,
      "outputs": [
        {
          "output_type": "error",
          "ename": "NameError",
          "evalue": "ignored",
          "traceback": [
            "\u001b[0;31m---------------------------------------------------------------------------\u001b[0m",
            "\u001b[0;31mNameError\u001b[0m                                 Traceback (most recent call last)",
            "\u001b[0;32m<ipython-input-1-cce4b4c24a5c>\u001b[0m in \u001b[0;36m<module>\u001b[0;34m()\u001b[0m\n\u001b[0;32m----> 1\u001b[0;31m \u001b[0mtrain_model\u001b[0m\u001b[0;34m(\u001b[0m\u001b[0mmodel\u001b[0m\u001b[0;34m,\u001b[0m \u001b[0mloss\u001b[0m\u001b[0;34m,\u001b[0m \u001b[0moptimizer\u001b[0m\u001b[0;34m,\u001b[0m \u001b[0mscheduler\u001b[0m\u001b[0;34m,\u001b[0m \u001b[0mnum_epochs\u001b[0m\u001b[0;34m=\u001b[0m\u001b[0;36m2\u001b[0m\u001b[0;34m)\u001b[0m\u001b[0;34m\u001b[0m\u001b[0;34m\u001b[0m\u001b[0m\n\u001b[0m",
            "\u001b[0;31mNameError\u001b[0m: name 'train_model' is not defined"
          ]
        }
      ]
    },
    {
      "cell_type": "code",
      "metadata": {
        "id": "dq9kzAClxnz1"
      },
      "source": [
        "with zipfile.ZipFile('/content/avia-test-extended.zip', 'r') as zip_obj:\n",
        "   # Extract all the contents of zip file in current directory\n",
        "   zip_obj.extractall('/content')"
      ],
      "execution_count": null,
      "outputs": []
    },
    {
      "cell_type": "code",
      "metadata": {
        "id": "Raeq7i5_5syy"
      },
      "source": [
        "torch.save(model.state_dict(), '/content/model_param')"
      ],
      "execution_count": null,
      "outputs": []
    },
    {
      "cell_type": "code",
      "metadata": {
        "id": "oNfvKCnFDzXJ"
      },
      "source": [
        "state_dict = torch.load('/content/model_param')"
      ],
      "execution_count": null,
      "outputs": []
    },
    {
      "cell_type": "code",
      "metadata": {
        "colab": {
          "base_uri": "https://localhost:8080/"
        },
        "id": "QbNwtf8AyJA_",
        "outputId": "c3ccc67f-a09b-4fbc-8ab2-985e303e1e64"
      },
      "source": [
        "model.load_state_dict(state_dict)"
      ],
      "execution_count": null,
      "outputs": [
        {
          "output_type": "execute_result",
          "data": {
            "text/plain": [
              "<All keys matched successfully>"
            ]
          },
          "metadata": {
            "tags": []
          },
          "execution_count": 53
        }
      ]
    },
    {
      "cell_type": "code",
      "metadata": {
        "colab": {
          "base_uri": "https://localhost:8080/",
          "height": 35
        },
        "id": "qi5P2Uh28sww",
        "outputId": "583c0b6c-2822-4591-9be6-12cf4b5aaf78"
      },
      "source": [
        "test_dir = 'test'\n",
        "shutil.copytree('/content/avia-test-extended', os.path.join(test_dir, 'unknown'))"
      ],
      "execution_count": null,
      "outputs": [
        {
          "output_type": "execute_result",
          "data": {
            "application/vnd.google.colaboratory.intrinsic+json": {
              "type": "string"
            },
            "text/plain": [
              "'test/unknown'"
            ]
          },
          "metadata": {
            "tags": []
          },
          "execution_count": 54
        }
      ]
    },
    {
      "cell_type": "code",
      "metadata": {
        "id": "iBBQr0rzBvZP"
      },
      "source": [
        "class ImageFolderWithPaths(torchvision.datasets.ImageFolder):\n",
        "    def __getitem__(self, index):\n",
        "        original_tuple = super(ImageFolderWithPaths, self).__getitem__(index)\n",
        "        path = self.imgs[index][0]\n",
        "        tuple_with_path = (original_tuple + (path,))\n",
        "        return tuple_with_path"
      ],
      "execution_count": null,
      "outputs": []
    },
    {
      "cell_type": "code",
      "metadata": {
        "id": "BnIWWJi6DNEM"
      },
      "source": [
        "test_dataset = ImageFolderWithPaths('/content/test', val_transform)"
      ],
      "execution_count": null,
      "outputs": []
    },
    {
      "cell_type": "code",
      "metadata": {
        "id": "nVbqmbtJH9sV"
      },
      "source": [
        "test_dataloader = torch.utils.data.DataLoader(test_dataset, batch_size=batch_size, shuffle=False, num_workers=0)"
      ],
      "execution_count": null,
      "outputs": []
    },
    {
      "cell_type": "code",
      "metadata": {
        "colab": {
          "base_uri": "https://localhost:8080/"
        },
        "id": "iky9zZiWIBVh",
        "outputId": "9d667e2b-7dc6-4e10-e427-7eb0d1764992"
      },
      "source": [
        "model.eval()\n",
        "\n",
        "test_predictions = []\n",
        "test_img_paths = []\n",
        "for inputs, labels, paths in tqdm(test_dataloader):\n",
        "    inputs = inputs.to(device)\n",
        "    labels = labels.to(device)\n",
        "    with torch.set_grad_enabled(False):\n",
        "        preds = model(inputs)\n",
        "    test_predictions.append(torch.nn.functional.softmax(preds, dim=1)[:,1].data.cpu().numpy())\n",
        "    test_img_paths.extend(paths)\n",
        "    \n",
        "test_predictions = np.concatenate(test_predictions)"
      ],
      "execution_count": null,
      "outputs": [
        {
          "output_type": "stream",
          "text": [
            "\r  0%|          | 0/3125 [00:00<?, ?it/s]/usr/local/lib/python3.7/dist-packages/torch/nn/functional.py:718: UserWarning: Named tensors and all their associated APIs are an experimental feature and subject to change. Please do not use them for anything important until they are released as stable. (Triggered internally at  /pytorch/c10/core/TensorImpl.h:1156.)\n",
            "  return torch.max_pool2d(input, kernel_size, stride, padding, dilation, ceil_mode)\n",
            "100%|██████████| 3125/3125 [1:57:28<00:00,  2.26s/it]\n"
          ],
          "name": "stderr"
        }
      ]
    },
    {
      "cell_type": "code",
      "metadata": {
        "id": "6w2k2fYMMmU8"
      },
      "source": [
        "submission_df = pd.DataFrame.from_dict({'sign': test_predictions, 'filename': test_img_paths, })"
      ],
      "execution_count": null,
      "outputs": []
    },
    {
      "cell_type": "code",
      "metadata": {
        "colab": {
          "base_uri": "https://localhost:8080/",
          "height": 225
        },
        "id": "9ldTFB25xues",
        "outputId": "cecfb8df-2c34-4f3b-cfce-7d3850276f68"
      },
      "source": [
        "submission_df['sign'] = submission_df['sign'].map(lambda pred: 1 if pred > 0.5 else 0)\n",
        "submission_df['filename'] = submission_df['filename'].str.replace('/content/test/unknown/', '')\n",
        "submission_df['filename'] = submission_df['filename'].str.replace('.jpeg', '')\n",
        "#submission_df.set_index('filename', inplace=True)\n",
        "submission_df.head(n=6)"
      ],
      "execution_count": null,
      "outputs": [
        {
          "output_type": "execute_result",
          "data": {
            "text/html": [
              "<div>\n",
              "<style scoped>\n",
              "    .dataframe tbody tr th:only-of-type {\n",
              "        vertical-align: middle;\n",
              "    }\n",
              "\n",
              "    .dataframe tbody tr th {\n",
              "        vertical-align: top;\n",
              "    }\n",
              "\n",
              "    .dataframe thead th {\n",
              "        text-align: right;\n",
              "    }\n",
              "</style>\n",
              "<table border=\"1\" class=\"dataframe\">\n",
              "  <thead>\n",
              "    <tr style=\"text-align: right;\">\n",
              "      <th></th>\n",
              "      <th>sign</th>\n",
              "      <th>filename</th>\n",
              "    </tr>\n",
              "  </thead>\n",
              "  <tbody>\n",
              "    <tr>\n",
              "      <th>0</th>\n",
              "      <td>0</td>\n",
              "      <td>0001ae74-0621-4612-bf01-873b4aa8ca04</td>\n",
              "    </tr>\n",
              "    <tr>\n",
              "      <th>1</th>\n",
              "      <td>0</td>\n",
              "      <td>000335cc-3d29-47a1-901c-b519c24a3046</td>\n",
              "    </tr>\n",
              "    <tr>\n",
              "      <th>2</th>\n",
              "      <td>0</td>\n",
              "      <td>00033beb-a9dc-487c-ae84-58f854ad3541</td>\n",
              "    </tr>\n",
              "    <tr>\n",
              "      <th>3</th>\n",
              "      <td>0</td>\n",
              "      <td>0003e529-d802-4d0f-b44c-cf581ab45233</td>\n",
              "    </tr>\n",
              "    <tr>\n",
              "      <th>4</th>\n",
              "      <td>0</td>\n",
              "      <td>00041fad-16d2-483f-9e57-cbccba08df30</td>\n",
              "    </tr>\n",
              "    <tr>\n",
              "      <th>5</th>\n",
              "      <td>0</td>\n",
              "      <td>00043035-aca1-4451-95ed-d77f7e98f287</td>\n",
              "    </tr>\n",
              "  </tbody>\n",
              "</table>\n",
              "</div>"
            ],
            "text/plain": [
              "   sign                              filename\n",
              "0     0  0001ae74-0621-4612-bf01-873b4aa8ca04\n",
              "1     0  000335cc-3d29-47a1-901c-b519c24a3046\n",
              "2     0  00033beb-a9dc-487c-ae84-58f854ad3541\n",
              "3     0  0003e529-d802-4d0f-b44c-cf581ab45233\n",
              "4     0  00041fad-16d2-483f-9e57-cbccba08df30\n",
              "5     0  00043035-aca1-4451-95ed-d77f7e98f287"
            ]
          },
          "metadata": {
            "tags": []
          },
          "execution_count": 111
        }
      ]
    },
    {
      "cell_type": "code",
      "metadata": {
        "colab": {
          "base_uri": "https://localhost:8080/"
        },
        "id": "yGL7lWR-oaro",
        "outputId": "bbdd692c-a23b-400b-d627-33a74dc2c794"
      },
      "source": [
        "submission_df['sign'].value_counts()"
      ],
      "execution_count": null,
      "outputs": [
        {
          "output_type": "execute_result",
          "data": {
            "text/plain": [
              "0    99993\n",
              "1        7\n",
              "Name: sign, dtype: int64"
            ]
          },
          "metadata": {
            "tags": []
          },
          "execution_count": 86
        }
      ]
    },
    {
      "cell_type": "code",
      "metadata": {
        "id": "iPUSiKQcos_Q"
      },
      "source": [
        "submission_df.to_csv('submission_1.csv', index=False)"
      ],
      "execution_count": null,
      "outputs": []
    },
    {
      "cell_type": "code",
      "metadata": {
        "id": "sOPV7rMtLIFo"
      },
      "source": [
        "df_row = pd.read_csv('/content/test_extended')"
      ],
      "execution_count": null,
      "outputs": []
    },
    {
      "cell_type": "code",
      "metadata": {
        "id": "d5HXOG4ZLwA8"
      },
      "source": [
        "df_row = df_row[1000:]"
      ],
      "execution_count": null,
      "outputs": []
    },
    {
      "cell_type": "code",
      "metadata": {
        "colab": {
          "base_uri": "https://localhost:8080/"
        },
        "id": "JRyAmvwWL7E9",
        "outputId": "01f4cb35-8551-43c9-e9cc-e778dca64d19"
      },
      "source": [
        "df_row.shape"
      ],
      "execution_count": null,
      "outputs": [
        {
          "output_type": "execute_result",
          "data": {
            "text/plain": [
              "(100000, 1)"
            ]
          },
          "metadata": {
            "tags": []
          },
          "execution_count": 107
        }
      ]
    },
    {
      "cell_type": "code",
      "metadata": {
        "id": "Ce-9heYlMR61"
      },
      "source": [
        "df_10000 = pd.merge(df_row, submission_df, how='left')"
      ],
      "execution_count": null,
      "outputs": []
    },
    {
      "cell_type": "code",
      "metadata": {
        "colab": {
          "base_uri": "https://localhost:8080/",
          "height": 195
        },
        "id": "POvk_E7nM2lG",
        "outputId": "f3fa9096-3a65-4714-c3d2-a2bf4b05ce36"
      },
      "source": [
        "df_10000.head()"
      ],
      "execution_count": null,
      "outputs": [
        {
          "output_type": "execute_result",
          "data": {
            "text/html": [
              "<div>\n",
              "<style scoped>\n",
              "    .dataframe tbody tr th:only-of-type {\n",
              "        vertical-align: middle;\n",
              "    }\n",
              "\n",
              "    .dataframe tbody tr th {\n",
              "        vertical-align: top;\n",
              "    }\n",
              "\n",
              "    .dataframe thead th {\n",
              "        text-align: right;\n",
              "    }\n",
              "</style>\n",
              "<table border=\"1\" class=\"dataframe\">\n",
              "  <thead>\n",
              "    <tr style=\"text-align: right;\">\n",
              "      <th></th>\n",
              "      <th>filename</th>\n",
              "      <th>sign</th>\n",
              "    </tr>\n",
              "  </thead>\n",
              "  <tbody>\n",
              "    <tr>\n",
              "      <th>0</th>\n",
              "      <td>6668257e-4c23-4e06-8e85-bbe602ba59bd</td>\n",
              "      <td>0</td>\n",
              "    </tr>\n",
              "    <tr>\n",
              "      <th>1</th>\n",
              "      <td>bb09e1b3-0a77-4ce8-b2aa-b81217e98a12</td>\n",
              "      <td>0</td>\n",
              "    </tr>\n",
              "    <tr>\n",
              "      <th>2</th>\n",
              "      <td>2a776a60-b88a-4510-b9cc-c0cdfd0c1cb8</td>\n",
              "      <td>0</td>\n",
              "    </tr>\n",
              "    <tr>\n",
              "      <th>3</th>\n",
              "      <td>23dd1d1f-2a2b-4f95-b712-f03550c05f2c</td>\n",
              "      <td>0</td>\n",
              "    </tr>\n",
              "    <tr>\n",
              "      <th>4</th>\n",
              "      <td>7ce93897-cf09-4a56-822c-145ed62078e8</td>\n",
              "      <td>0</td>\n",
              "    </tr>\n",
              "  </tbody>\n",
              "</table>\n",
              "</div>"
            ],
            "text/plain": [
              "                               filename  sign\n",
              "0  6668257e-4c23-4e06-8e85-bbe602ba59bd     0\n",
              "1  bb09e1b3-0a77-4ce8-b2aa-b81217e98a12     0\n",
              "2  2a776a60-b88a-4510-b9cc-c0cdfd0c1cb8     0\n",
              "3  23dd1d1f-2a2b-4f95-b712-f03550c05f2c     0\n",
              "4  7ce93897-cf09-4a56-822c-145ed62078e8     0"
            ]
          },
          "metadata": {
            "tags": []
          },
          "execution_count": 115
        }
      ]
    },
    {
      "cell_type": "code",
      "metadata": {
        "id": "wN1j1L6RMslH"
      },
      "source": [
        "df_10000 =df_10000.reindex(columns=['sign', 'filename'])"
      ],
      "execution_count": null,
      "outputs": []
    },
    {
      "cell_type": "markdown",
      "metadata": {
        "id": "vc-CJaTewJlI"
      },
      "source": [
        "решения для первого набора"
      ]
    },
    {
      "cell_type": "code",
      "metadata": {
        "id": "P7iQPywCwIlh"
      },
      "source": [
        "with zipfile.ZipFile('/content/avia-test.zip', 'r') as zip_obj:\n",
        "   # Extract all the contents of zip file in current directory\n",
        "   zip_obj.extractall('/content')"
      ],
      "execution_count": null,
      "outputs": []
    },
    {
      "cell_type": "code",
      "metadata": {
        "colab": {
          "base_uri": "https://localhost:8080/",
          "height": 35
        },
        "id": "wwMIHMWzwulT",
        "outputId": "df90ef16-3f83-43e0-c122-ef0a8cbcf4ac"
      },
      "source": [
        "test_dir = 'test_1'\n",
        "shutil.copytree('/content/avia-test', os.path.join(test_dir, 'unknown'))"
      ],
      "execution_count": null,
      "outputs": [
        {
          "output_type": "execute_result",
          "data": {
            "application/vnd.google.colaboratory.intrinsic+json": {
              "type": "string"
            },
            "text/plain": [
              "'test_1/unknown'"
            ]
          },
          "metadata": {
            "tags": []
          },
          "execution_count": 91
        }
      ]
    },
    {
      "cell_type": "code",
      "metadata": {
        "id": "r7vGTy6zwklC"
      },
      "source": [
        "test_dataset_1 = ImageFolderWithPaths('/content/test_1', val_transform)"
      ],
      "execution_count": null,
      "outputs": []
    },
    {
      "cell_type": "code",
      "metadata": {
        "id": "QDCcqsQCxTFc"
      },
      "source": [
        "test_dataloader_1 = torch.utils.data.DataLoader(test_dataset_1, batch_size=batch_size, shuffle=False, num_workers=0)"
      ],
      "execution_count": null,
      "outputs": []
    },
    {
      "cell_type": "code",
      "metadata": {
        "colab": {
          "base_uri": "https://localhost:8080/"
        },
        "id": "f7vAIJjHxgLo",
        "outputId": "cbb2bf76-d3e4-4936-c763-87f00e7b3378"
      },
      "source": [
        "model.eval()\n",
        "\n",
        "test_predictions_1 = []\n",
        "test_img_paths_1 = []\n",
        "for inputs, labels, paths in tqdm(test_dataloader_1):\n",
        "    inputs = inputs.to(device)\n",
        "    labels = labels.to(device)\n",
        "    with torch.set_grad_enabled(False):\n",
        "        preds = model(inputs)\n",
        "    test_predictions_1.append(torch.nn.functional.softmax(preds, dim=1)[:,1].data.cpu().numpy())\n",
        "    test_img_paths_1.extend(paths)\n",
        "    \n",
        "test_predictions_1 = np.concatenate(test_predictions_1)"
      ],
      "execution_count": null,
      "outputs": [
        {
          "output_type": "stream",
          "text": [
            "100%|██████████| 32/32 [01:12<00:00,  2.26s/it]\n"
          ],
          "name": "stderr"
        }
      ]
    },
    {
      "cell_type": "code",
      "metadata": {
        "id": "c2gZvxujyDao"
      },
      "source": [
        "submission_df_1 = pd.DataFrame.from_dict({'sign': test_predictions_1, 'filename': test_img_paths_1 })"
      ],
      "execution_count": null,
      "outputs": []
    },
    {
      "cell_type": "code",
      "metadata": {
        "colab": {
          "base_uri": "https://localhost:8080/",
          "height": 225
        },
        "id": "yuA2fwQLyRvI",
        "outputId": "67570bab-bc63-4315-8129-d34c30d1a5a6"
      },
      "source": [
        "submission_df_1['sign'] = submission_df_1['sign'].map(lambda pred: 1 if pred > 0.5 else 0)\n",
        "submission_df_1['filename'] = submission_df_1['filename'].str.replace('/content/test_1/unknown/', '')\n",
        "submission_df_1['filename'] = submission_df_1['filename'].str.replace('.png', '')\n",
        "#submission_df.set_index('filename', inplace=True)\n",
        "submission_df_1.head(n=6)"
      ],
      "execution_count": null,
      "outputs": [
        {
          "output_type": "execute_result",
          "data": {
            "text/html": [
              "<div>\n",
              "<style scoped>\n",
              "    .dataframe tbody tr th:only-of-type {\n",
              "        vertical-align: middle;\n",
              "    }\n",
              "\n",
              "    .dataframe tbody tr th {\n",
              "        vertical-align: top;\n",
              "    }\n",
              "\n",
              "    .dataframe thead th {\n",
              "        text-align: right;\n",
              "    }\n",
              "</style>\n",
              "<table border=\"1\" class=\"dataframe\">\n",
              "  <thead>\n",
              "    <tr style=\"text-align: right;\">\n",
              "      <th></th>\n",
              "      <th>sign</th>\n",
              "      <th>filename</th>\n",
              "    </tr>\n",
              "  </thead>\n",
              "  <tbody>\n",
              "    <tr>\n",
              "      <th>0</th>\n",
              "      <td>0</td>\n",
              "      <td>0019eb80-8333-4218-9fc7-68aac6dd9f06</td>\n",
              "    </tr>\n",
              "    <tr>\n",
              "      <th>1</th>\n",
              "      <td>0</td>\n",
              "      <td>003597dc-2212-478c-8e06-bcafd17ce351</td>\n",
              "    </tr>\n",
              "    <tr>\n",
              "      <th>2</th>\n",
              "      <td>0</td>\n",
              "      <td>00a90c41-965e-45d0-90c2-391e20cb25b7</td>\n",
              "    </tr>\n",
              "    <tr>\n",
              "      <th>3</th>\n",
              "      <td>0</td>\n",
              "      <td>00dc43c9-7567-485e-be98-304473b75c23</td>\n",
              "    </tr>\n",
              "    <tr>\n",
              "      <th>4</th>\n",
              "      <td>0</td>\n",
              "      <td>00fe5609-d380-4135-95ac-f32b6bb4655f</td>\n",
              "    </tr>\n",
              "    <tr>\n",
              "      <th>5</th>\n",
              "      <td>0</td>\n",
              "      <td>0101750c-7f73-42ba-9fe3-35e9a6fbf923</td>\n",
              "    </tr>\n",
              "  </tbody>\n",
              "</table>\n",
              "</div>"
            ],
            "text/plain": [
              "   sign                              filename\n",
              "0     0  0019eb80-8333-4218-9fc7-68aac6dd9f06\n",
              "1     0  003597dc-2212-478c-8e06-bcafd17ce351\n",
              "2     0  00a90c41-965e-45d0-90c2-391e20cb25b7\n",
              "3     0  00dc43c9-7567-485e-be98-304473b75c23\n",
              "4     0  00fe5609-d380-4135-95ac-f32b6bb4655f\n",
              "5     0  0101750c-7f73-42ba-9fe3-35e9a6fbf923"
            ]
          },
          "metadata": {
            "tags": []
          },
          "execution_count": 96
        }
      ]
    },
    {
      "cell_type": "code",
      "metadata": {
        "id": "p7EhJuzj7jGL"
      },
      "source": [
        "first_df = pd.read_csv('/content/test.csv')"
      ],
      "execution_count": null,
      "outputs": []
    },
    {
      "cell_type": "code",
      "metadata": {
        "id": "-2asrouT9aiX"
      },
      "source": [
        "merged_df = pd.merge(first_df, submission_df_1, how='left')"
      ],
      "execution_count": null,
      "outputs": []
    },
    {
      "cell_type": "code",
      "metadata": {
        "colab": {
          "base_uri": "https://localhost:8080/",
          "height": 195
        },
        "id": "rnRHlehIFDN_",
        "outputId": "d9dbfb21-d084-40f1-9393-36fc79090684"
      },
      "source": [
        "merged_df.head()"
      ],
      "execution_count": null,
      "outputs": [
        {
          "output_type": "execute_result",
          "data": {
            "text/html": [
              "<div>\n",
              "<style scoped>\n",
              "    .dataframe tbody tr th:only-of-type {\n",
              "        vertical-align: middle;\n",
              "    }\n",
              "\n",
              "    .dataframe tbody tr th {\n",
              "        vertical-align: top;\n",
              "    }\n",
              "\n",
              "    .dataframe thead th {\n",
              "        text-align: right;\n",
              "    }\n",
              "</style>\n",
              "<table border=\"1\" class=\"dataframe\">\n",
              "  <thead>\n",
              "    <tr style=\"text-align: right;\">\n",
              "      <th></th>\n",
              "      <th>filename</th>\n",
              "      <th>sign</th>\n",
              "    </tr>\n",
              "  </thead>\n",
              "  <tbody>\n",
              "    <tr>\n",
              "      <th>0</th>\n",
              "      <td>68f33844-472b-4111-b600-f90d544833c7</td>\n",
              "      <td>0</td>\n",
              "    </tr>\n",
              "    <tr>\n",
              "      <th>1</th>\n",
              "      <td>7d93a21d-1f16-49ce-8fcc-edf12c40f549</td>\n",
              "      <td>0</td>\n",
              "    </tr>\n",
              "    <tr>\n",
              "      <th>2</th>\n",
              "      <td>4a820650-7acd-489a-ad14-9d7ad8c73b6b</td>\n",
              "      <td>0</td>\n",
              "    </tr>\n",
              "    <tr>\n",
              "      <th>3</th>\n",
              "      <td>819b216b-2b6c-4539-a722-70648c0706c6</td>\n",
              "      <td>1</td>\n",
              "    </tr>\n",
              "    <tr>\n",
              "      <th>4</th>\n",
              "      <td>45f7c47d-03cc-40cd-acc5-b8c1c57872fa</td>\n",
              "      <td>0</td>\n",
              "    </tr>\n",
              "  </tbody>\n",
              "</table>\n",
              "</div>"
            ],
            "text/plain": [
              "                               filename  sign\n",
              "0  68f33844-472b-4111-b600-f90d544833c7     0\n",
              "1  7d93a21d-1f16-49ce-8fcc-edf12c40f549     0\n",
              "2  4a820650-7acd-489a-ad14-9d7ad8c73b6b     0\n",
              "3  819b216b-2b6c-4539-a722-70648c0706c6     1\n",
              "4  45f7c47d-03cc-40cd-acc5-b8c1c57872fa     0"
            ]
          },
          "metadata": {
            "tags": []
          },
          "execution_count": 101
        }
      ]
    },
    {
      "cell_type": "code",
      "metadata": {
        "id": "CngEwDzQGfb-"
      },
      "source": [
        "new_df_merged = merged_df.reindex(columns=['sign', 'filename'])"
      ],
      "execution_count": null,
      "outputs": []
    },
    {
      "cell_type": "code",
      "metadata": {
        "id": "NsbfcJuzNFHM"
      },
      "source": [
        "final_df = pd.concat([new_df_merged, df_10000], ignore_index=True)"
      ],
      "execution_count": null,
      "outputs": []
    },
    {
      "cell_type": "code",
      "metadata": {
        "colab": {
          "base_uri": "https://localhost:8080/",
          "height": 402
        },
        "id": "3pPFPRZINbW7",
        "outputId": "da9120e5-bb49-4626-979c-620872af1091"
      },
      "source": [
        "final_df"
      ],
      "execution_count": null,
      "outputs": [
        {
          "output_type": "execute_result",
          "data": {
            "text/html": [
              "<div>\n",
              "<style scoped>\n",
              "    .dataframe tbody tr th:only-of-type {\n",
              "        vertical-align: middle;\n",
              "    }\n",
              "\n",
              "    .dataframe tbody tr th {\n",
              "        vertical-align: top;\n",
              "    }\n",
              "\n",
              "    .dataframe thead th {\n",
              "        text-align: right;\n",
              "    }\n",
              "</style>\n",
              "<table border=\"1\" class=\"dataframe\">\n",
              "  <thead>\n",
              "    <tr style=\"text-align: right;\">\n",
              "      <th></th>\n",
              "      <th>sign</th>\n",
              "      <th>filename</th>\n",
              "    </tr>\n",
              "  </thead>\n",
              "  <tbody>\n",
              "    <tr>\n",
              "      <th>0</th>\n",
              "      <td>0</td>\n",
              "      <td>68f33844-472b-4111-b600-f90d544833c7</td>\n",
              "    </tr>\n",
              "    <tr>\n",
              "      <th>1</th>\n",
              "      <td>0</td>\n",
              "      <td>7d93a21d-1f16-49ce-8fcc-edf12c40f549</td>\n",
              "    </tr>\n",
              "    <tr>\n",
              "      <th>2</th>\n",
              "      <td>0</td>\n",
              "      <td>4a820650-7acd-489a-ad14-9d7ad8c73b6b</td>\n",
              "    </tr>\n",
              "    <tr>\n",
              "      <th>3</th>\n",
              "      <td>1</td>\n",
              "      <td>819b216b-2b6c-4539-a722-70648c0706c6</td>\n",
              "    </tr>\n",
              "    <tr>\n",
              "      <th>4</th>\n",
              "      <td>0</td>\n",
              "      <td>45f7c47d-03cc-40cd-acc5-b8c1c57872fa</td>\n",
              "    </tr>\n",
              "    <tr>\n",
              "      <th>...</th>\n",
              "      <td>...</td>\n",
              "      <td>...</td>\n",
              "    </tr>\n",
              "    <tr>\n",
              "      <th>100995</th>\n",
              "      <td>0</td>\n",
              "      <td>82aba9fd-3f78-4087-99f6-af9f5a990677</td>\n",
              "    </tr>\n",
              "    <tr>\n",
              "      <th>100996</th>\n",
              "      <td>0</td>\n",
              "      <td>3bb91d2b-53fb-42d4-a644-7e30a39572cd</td>\n",
              "    </tr>\n",
              "    <tr>\n",
              "      <th>100997</th>\n",
              "      <td>0</td>\n",
              "      <td>fba3e0de-d8b7-4721-82ae-f6ff135bd746</td>\n",
              "    </tr>\n",
              "    <tr>\n",
              "      <th>100998</th>\n",
              "      <td>0</td>\n",
              "      <td>09fa231e-6998-4904-acd7-2ed71408296e</td>\n",
              "    </tr>\n",
              "    <tr>\n",
              "      <th>100999</th>\n",
              "      <td>0</td>\n",
              "      <td>c920e196-0321-45c0-b200-6761e0e6d144</td>\n",
              "    </tr>\n",
              "  </tbody>\n",
              "</table>\n",
              "<p>101000 rows × 2 columns</p>\n",
              "</div>"
            ],
            "text/plain": [
              "        sign                              filename\n",
              "0          0  68f33844-472b-4111-b600-f90d544833c7\n",
              "1          0  7d93a21d-1f16-49ce-8fcc-edf12c40f549\n",
              "2          0  4a820650-7acd-489a-ad14-9d7ad8c73b6b\n",
              "3          1  819b216b-2b6c-4539-a722-70648c0706c6\n",
              "4          0  45f7c47d-03cc-40cd-acc5-b8c1c57872fa\n",
              "...      ...                                   ...\n",
              "100995     0  82aba9fd-3f78-4087-99f6-af9f5a990677\n",
              "100996     0  3bb91d2b-53fb-42d4-a644-7e30a39572cd\n",
              "100997     0  fba3e0de-d8b7-4721-82ae-f6ff135bd746\n",
              "100998     0  09fa231e-6998-4904-acd7-2ed71408296e\n",
              "100999     0  c920e196-0321-45c0-b200-6761e0e6d144\n",
              "\n",
              "[101000 rows x 2 columns]"
            ]
          },
          "metadata": {
            "tags": []
          },
          "execution_count": 119
        }
      ]
    },
    {
      "cell_type": "code",
      "metadata": {
        "id": "LLGZ5Qw8N4GK"
      },
      "source": [
        "final_df.to_csv('submission_2.csv', index=False)"
      ],
      "execution_count": null,
      "outputs": []
    }
  ]
}